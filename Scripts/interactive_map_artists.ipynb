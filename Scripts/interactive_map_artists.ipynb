{
 "cells": [
  {
   "cell_type": "code",
   "execution_count": 18,
   "metadata": {},
   "outputs": [],
   "source": [
    "import numpy as np\n",
    "import pandas as pd\n",
    "import os\n",
    "import matplotlib.pyplot as plt\n",
    "import seaborn as sns\n",
    "import scipy.stats as stats\n",
    "import matplotlib.gridspec as gridspec\n",
    "from scipy.io import arff\n",
    "from sklearn.preprocessing import LabelEncoder"
   ]
  },
  {
   "cell_type": "code",
   "execution_count": 19,
   "metadata": {},
   "outputs": [
    {
     "data": {
      "text/html": [
       "<div>\n",
       "<style scoped>\n",
       "    .dataframe tbody tr th:only-of-type {\n",
       "        vertical-align: middle;\n",
       "    }\n",
       "\n",
       "    .dataframe tbody tr th {\n",
       "        vertical-align: top;\n",
       "    }\n",
       "\n",
       "    .dataframe thead th {\n",
       "        text-align: right;\n",
       "    }\n",
       "</style>\n",
       "<table border=\"1\" class=\"dataframe\">\n",
       "  <thead>\n",
       "    <tr style=\"text-align: right;\">\n",
       "      <th></th>\n",
       "      <th>artist_name</th>\n",
       "      <th>e.country</th>\n",
       "      <th>e.country_3</th>\n",
       "      <th>num_exhibitions</th>\n",
       "    </tr>\n",
       "  </thead>\n",
       "  <tbody>\n",
       "    <tr>\n",
       "      <th>0</th>\n",
       "      <td>1 unknown</td>\n",
       "      <td>BE</td>\n",
       "      <td>BEL</td>\n",
       "      <td>2</td>\n",
       "    </tr>\n",
       "    <tr>\n",
       "      <th>1</th>\n",
       "      <td>2 unknown</td>\n",
       "      <td>FR</td>\n",
       "      <td>FRA</td>\n",
       "      <td>1</td>\n",
       "    </tr>\n",
       "    <tr>\n",
       "      <th>2</th>\n",
       "      <td>A L Millich</td>\n",
       "      <td>GB</td>\n",
       "      <td>GBR</td>\n",
       "      <td>2</td>\n",
       "    </tr>\n",
       "    <tr>\n",
       "      <th>3</th>\n",
       "      <td>A Molitor</td>\n",
       "      <td>BE</td>\n",
       "      <td>BEL</td>\n",
       "      <td>2</td>\n",
       "    </tr>\n",
       "    <tr>\n",
       "      <th>4</th>\n",
       "      <td>A. A. Baryshnikov</td>\n",
       "      <td>RU</td>\n",
       "      <td>RUS</td>\n",
       "      <td>1</td>\n",
       "    </tr>\n",
       "  </tbody>\n",
       "</table>\n",
       "</div>"
      ],
      "text/plain": [
       "         artist_name e.country e.country_3  num_exhibitions\n",
       "0          1 unknown        BE         BEL                2\n",
       "1          2 unknown        FR         FRA                1\n",
       "2        A L Millich        GB         GBR                2\n",
       "3          A Molitor        BE         BEL                2\n",
       "4  A. A. Baryshnikov        RU         RUS                1"
      ]
     },
     "metadata": {},
     "output_type": "display_data"
    }
   ],
   "source": [
    "artists_path = os.path.join('D:\\\\', 'artists')\n",
    "original_datasets_path = os.path.abspath(artists_path)\n",
    "\n",
    "# Load data\n",
    "def load_data(artists_datasets_path: str):\n",
    "    artist_data = pd.read_csv(artists_datasets_path, delimiter=\",\")  # Intenta también con \"\\t\"\n",
    "    return artist_data\n",
    "\n",
    "\n",
    "# Load data \n",
    "artists_datasets_path = os.path.join(artists_path, 'map_df_filtered.csv')\n",
    "map_df_filtered = load_data(artists_datasets_path)\n",
    "\n",
    "# Show first records and DataFrame information\n",
    "display(map_df_filtered.head())\n"
   ]
  },
  {
   "cell_type": "code",
   "execution_count": 20,
   "metadata": {},
   "outputs": [
    {
     "name": "stdout",
     "output_type": "stream",
     "text": [
      "Top 5 artists with the most records:\n",
      "             artist_name  count\n",
      "0          Maurice Denis     14\n",
      "1         Pierre Bonnard     14\n",
      "2            Paul Signac     14\n",
      "3       Edouard Vuillard     14\n",
      "4  Henri Charles Manguin     14\n",
      "\n",
      "Bottom 5 artists with the fewest records:\n",
      "                       artist_name  count\n",
      "13261    Émile Norman Saint-Marcel      1\n",
      "13262      Émile Pierre Metzmacher      1\n",
      "13263  Émile Pierre de La Montagne      1\n",
      "13264                Émile Pinchon      1\n",
      "13265                 Émile Raulin      1\n",
      "\n",
      "Filtered DataFrame with Top 5 and Bottom 5 artists:\n"
     ]
    },
    {
     "data": {
      "text/html": [
       "<div>\n",
       "<style scoped>\n",
       "    .dataframe tbody tr th:only-of-type {\n",
       "        vertical-align: middle;\n",
       "    }\n",
       "\n",
       "    .dataframe tbody tr th {\n",
       "        vertical-align: top;\n",
       "    }\n",
       "\n",
       "    .dataframe thead th {\n",
       "        text-align: right;\n",
       "    }\n",
       "</style>\n",
       "<table border=\"1\" class=\"dataframe\">\n",
       "  <thead>\n",
       "    <tr style=\"text-align: right;\">\n",
       "      <th></th>\n",
       "      <th>artist_name</th>\n",
       "      <th>e.country</th>\n",
       "      <th>e.country_3</th>\n",
       "      <th>num_exhibitions</th>\n",
       "    </tr>\n",
       "  </thead>\n",
       "  <tbody>\n",
       "    <tr>\n",
       "      <th>4553</th>\n",
       "      <td>Edouard Vuillard</td>\n",
       "      <td>AT</td>\n",
       "      <td>AUT</td>\n",
       "      <td>9</td>\n",
       "    </tr>\n",
       "    <tr>\n",
       "      <th>4554</th>\n",
       "      <td>Edouard Vuillard</td>\n",
       "      <td>BE</td>\n",
       "      <td>BEL</td>\n",
       "      <td>43</td>\n",
       "    </tr>\n",
       "    <tr>\n",
       "      <th>4555</th>\n",
       "      <td>Edouard Vuillard</td>\n",
       "      <td>CH</td>\n",
       "      <td>CHE</td>\n",
       "      <td>6</td>\n",
       "    </tr>\n",
       "    <tr>\n",
       "      <th>4556</th>\n",
       "      <td>Edouard Vuillard</td>\n",
       "      <td>CZ</td>\n",
       "      <td>CZE</td>\n",
       "      <td>10</td>\n",
       "    </tr>\n",
       "    <tr>\n",
       "      <th>4557</th>\n",
       "      <td>Edouard Vuillard</td>\n",
       "      <td>DE</td>\n",
       "      <td>DEU</td>\n",
       "      <td>93</td>\n",
       "    </tr>\n",
       "    <tr>\n",
       "      <th>...</th>\n",
       "      <td>...</td>\n",
       "      <td>...</td>\n",
       "      <td>...</td>\n",
       "      <td>...</td>\n",
       "    </tr>\n",
       "    <tr>\n",
       "      <th>20227</th>\n",
       "      <td>Émile Norman Saint-Marcel</td>\n",
       "      <td>FR</td>\n",
       "      <td>FRA</td>\n",
       "      <td>8</td>\n",
       "    </tr>\n",
       "    <tr>\n",
       "      <th>20228</th>\n",
       "      <td>Émile Pierre Metzmacher</td>\n",
       "      <td>FR</td>\n",
       "      <td>FRA</td>\n",
       "      <td>1</td>\n",
       "    </tr>\n",
       "    <tr>\n",
       "      <th>20229</th>\n",
       "      <td>Émile Pierre de La Montagne</td>\n",
       "      <td>BE</td>\n",
       "      <td>BEL</td>\n",
       "      <td>7</td>\n",
       "    </tr>\n",
       "    <tr>\n",
       "      <th>20230</th>\n",
       "      <td>Émile Pinchon</td>\n",
       "      <td>FR</td>\n",
       "      <td>FRA</td>\n",
       "      <td>15</td>\n",
       "    </tr>\n",
       "    <tr>\n",
       "      <th>20231</th>\n",
       "      <td>Émile Raulin</td>\n",
       "      <td>FR</td>\n",
       "      <td>FRA</td>\n",
       "      <td>8</td>\n",
       "    </tr>\n",
       "  </tbody>\n",
       "</table>\n",
       "<p>75 rows × 4 columns</p>\n",
       "</div>"
      ],
      "text/plain": [
       "                       artist_name e.country e.country_3  num_exhibitions\n",
       "4553              Edouard Vuillard        AT         AUT                9\n",
       "4554              Edouard Vuillard        BE         BEL               43\n",
       "4555              Edouard Vuillard        CH         CHE                6\n",
       "4556              Edouard Vuillard        CZ         CZE               10\n",
       "4557              Edouard Vuillard        DE         DEU               93\n",
       "...                            ...       ...         ...              ...\n",
       "20227    Émile Norman Saint-Marcel        FR         FRA                8\n",
       "20228      Émile Pierre Metzmacher        FR         FRA                1\n",
       "20229  Émile Pierre de La Montagne        BE         BEL                7\n",
       "20230                Émile Pinchon        FR         FRA               15\n",
       "20231                 Émile Raulin        FR         FRA                8\n",
       "\n",
       "[75 rows x 4 columns]"
      ]
     },
     "metadata": {},
     "output_type": "display_data"
    }
   ],
   "source": [
    "import plotly.express as px\n",
    "import numpy as np\n",
    "import plotly.graph_objects as go\n",
    "\n",
    "# Count the number of records per artist\n",
    "artist_counts = map_df_filtered['artist_name'].value_counts().reset_index()\n",
    "artist_counts.columns = ['artist_name', 'count']\n",
    "\n",
    "# Select the top 5 artists with the most records\n",
    "top_5_artists = artist_counts.head(5)\n",
    "print(\"Top 5 artists with the most records:\")\n",
    "print(top_5_artists)\n",
    "\n",
    "# Select the bottom 5 artists with the fewest records\n",
    "bottom_5_artists = artist_counts.tail(5)\n",
    "print(\"\\nBottom 5 artists with the fewest records:\")\n",
    "print(bottom_5_artists)\n",
    "\n",
    "# Combine the top 5 and bottom 5 artists into a single list\n",
    "selected_artists = pd.concat([top_5_artists, bottom_5_artists])\n",
    "\n",
    "# Filter the original DataFrame to include only the selected artists\n",
    "filtered_df = map_df_filtered[map_df_filtered['artist_name'].isin(selected_artists['artist_name'])]\n",
    "\n",
    "# Display the filtered DataFrame\n",
    "print(\"\\nFiltered DataFrame with Top 5 and Bottom 5 artists:\")\n",
    "display(filtered_df)\n",
    "\n"
   ]
  },
  {
   "cell_type": "code",
   "execution_count": 21,
   "metadata": {},
   "outputs": [
    {
     "name": "stderr",
     "output_type": "stream",
     "text": [
      "C:\\Users\\irene\\AppData\\Local\\Temp\\ipykernel_13996\\4110052398.py:1: SettingWithCopyWarning:\n",
      "\n",
      "\n",
      "A value is trying to be set on a copy of a slice from a DataFrame.\n",
      "Try using .loc[row_indexer,col_indexer] = value instead\n",
      "\n",
      "See the caveats in the documentation: https://pandas.pydata.org/pandas-docs/stable/user_guide/indexing.html#returning-a-view-versus-a-copy\n",
      "\n"
     ]
    },
    {
     "data": {
      "application/vnd.plotly.v1+json": {
       "config": {
        "plotlyServerURL": "https://plot.ly"
       },
       "data": [
        {
         "colorbar": {
          "title": {
           "text": "Exhibitions (Log Scale)"
          }
         },
         "colorscale": [
          [
           0,
           "#0d0887"
          ],
          [
           0.1111111111111111,
           "#46039f"
          ],
          [
           0.2222222222222222,
           "#7201a8"
          ],
          [
           0.3333333333333333,
           "#9c179e"
          ],
          [
           0.4444444444444444,
           "#bd3786"
          ],
          [
           0.5555555555555556,
           "#d8576b"
          ],
          [
           0.6666666666666666,
           "#ed7953"
          ],
          [
           0.7777777777777778,
           "#fb9f3a"
          ],
          [
           0.8888888888888888,
           "#fdca26"
          ],
          [
           1,
           "#f0f921"
          ]
         ],
         "locations": [
          "AUT",
          "BEL",
          "CHE",
          "CZE",
          "DEU",
          "FRA",
          "GBR",
          "HUN",
          "ITA",
          null,
          "NLD",
          "RUS",
          "UKR",
          "USA"
         ],
         "text": [
          "AT",
          "BE",
          "CH",
          "CZ",
          "DE",
          "FR",
          "GB",
          "HU",
          "IT",
          "LV",
          "NL",
          "RU",
          "UA",
          "US"
         ],
         "type": "choropleth",
         "z": [
          2.302585092994046,
          3.784189633918261,
          1.9459101490553132,
          2.3978952727983707,
          4.543294782270004,
          5.707110264748875,
          0.6931471805599453,
          2.0794415416798357,
          2.302585092994046,
          1.9459101490553132,
          1.0986122886681098,
          2.5649493574615367,
          2.5649493574615367,
          1.791759469228055
         ],
         "zmax": 5.75890177387728,
         "zmin": 0.6931471805599453
        }
       ],
       "layout": {
        "coloraxis": {
         "colorbar": {
          "title": {
           "text": "Exhibitions (Log Scale)"
          }
         }
        },
        "geo": {
         "coastlinecolor": "Black",
         "landcolor": "lightgray",
         "projection": {
          "type": "natural earth"
         },
         "showcoastlines": true,
         "showland": true
        },
        "template": {
         "data": {
          "bar": [
           {
            "error_x": {
             "color": "#2a3f5f"
            },
            "error_y": {
             "color": "#2a3f5f"
            },
            "marker": {
             "line": {
              "color": "#E5ECF6",
              "width": 0.5
             },
             "pattern": {
              "fillmode": "overlay",
              "size": 10,
              "solidity": 0.2
             }
            },
            "type": "bar"
           }
          ],
          "barpolar": [
           {
            "marker": {
             "line": {
              "color": "#E5ECF6",
              "width": 0.5
             },
             "pattern": {
              "fillmode": "overlay",
              "size": 10,
              "solidity": 0.2
             }
            },
            "type": "barpolar"
           }
          ],
          "carpet": [
           {
            "aaxis": {
             "endlinecolor": "#2a3f5f",
             "gridcolor": "white",
             "linecolor": "white",
             "minorgridcolor": "white",
             "startlinecolor": "#2a3f5f"
            },
            "baxis": {
             "endlinecolor": "#2a3f5f",
             "gridcolor": "white",
             "linecolor": "white",
             "minorgridcolor": "white",
             "startlinecolor": "#2a3f5f"
            },
            "type": "carpet"
           }
          ],
          "choropleth": [
           {
            "colorbar": {
             "outlinewidth": 0,
             "ticks": ""
            },
            "type": "choropleth"
           }
          ],
          "contour": [
           {
            "colorbar": {
             "outlinewidth": 0,
             "ticks": ""
            },
            "colorscale": [
             [
              0,
              "#0d0887"
             ],
             [
              0.1111111111111111,
              "#46039f"
             ],
             [
              0.2222222222222222,
              "#7201a8"
             ],
             [
              0.3333333333333333,
              "#9c179e"
             ],
             [
              0.4444444444444444,
              "#bd3786"
             ],
             [
              0.5555555555555556,
              "#d8576b"
             ],
             [
              0.6666666666666666,
              "#ed7953"
             ],
             [
              0.7777777777777778,
              "#fb9f3a"
             ],
             [
              0.8888888888888888,
              "#fdca26"
             ],
             [
              1,
              "#f0f921"
             ]
            ],
            "type": "contour"
           }
          ],
          "contourcarpet": [
           {
            "colorbar": {
             "outlinewidth": 0,
             "ticks": ""
            },
            "type": "contourcarpet"
           }
          ],
          "heatmap": [
           {
            "colorbar": {
             "outlinewidth": 0,
             "ticks": ""
            },
            "colorscale": [
             [
              0,
              "#0d0887"
             ],
             [
              0.1111111111111111,
              "#46039f"
             ],
             [
              0.2222222222222222,
              "#7201a8"
             ],
             [
              0.3333333333333333,
              "#9c179e"
             ],
             [
              0.4444444444444444,
              "#bd3786"
             ],
             [
              0.5555555555555556,
              "#d8576b"
             ],
             [
              0.6666666666666666,
              "#ed7953"
             ],
             [
              0.7777777777777778,
              "#fb9f3a"
             ],
             [
              0.8888888888888888,
              "#fdca26"
             ],
             [
              1,
              "#f0f921"
             ]
            ],
            "type": "heatmap"
           }
          ],
          "heatmapgl": [
           {
            "colorbar": {
             "outlinewidth": 0,
             "ticks": ""
            },
            "colorscale": [
             [
              0,
              "#0d0887"
             ],
             [
              0.1111111111111111,
              "#46039f"
             ],
             [
              0.2222222222222222,
              "#7201a8"
             ],
             [
              0.3333333333333333,
              "#9c179e"
             ],
             [
              0.4444444444444444,
              "#bd3786"
             ],
             [
              0.5555555555555556,
              "#d8576b"
             ],
             [
              0.6666666666666666,
              "#ed7953"
             ],
             [
              0.7777777777777778,
              "#fb9f3a"
             ],
             [
              0.8888888888888888,
              "#fdca26"
             ],
             [
              1,
              "#f0f921"
             ]
            ],
            "type": "heatmapgl"
           }
          ],
          "histogram": [
           {
            "marker": {
             "pattern": {
              "fillmode": "overlay",
              "size": 10,
              "solidity": 0.2
             }
            },
            "type": "histogram"
           }
          ],
          "histogram2d": [
           {
            "colorbar": {
             "outlinewidth": 0,
             "ticks": ""
            },
            "colorscale": [
             [
              0,
              "#0d0887"
             ],
             [
              0.1111111111111111,
              "#46039f"
             ],
             [
              0.2222222222222222,
              "#7201a8"
             ],
             [
              0.3333333333333333,
              "#9c179e"
             ],
             [
              0.4444444444444444,
              "#bd3786"
             ],
             [
              0.5555555555555556,
              "#d8576b"
             ],
             [
              0.6666666666666666,
              "#ed7953"
             ],
             [
              0.7777777777777778,
              "#fb9f3a"
             ],
             [
              0.8888888888888888,
              "#fdca26"
             ],
             [
              1,
              "#f0f921"
             ]
            ],
            "type": "histogram2d"
           }
          ],
          "histogram2dcontour": [
           {
            "colorbar": {
             "outlinewidth": 0,
             "ticks": ""
            },
            "colorscale": [
             [
              0,
              "#0d0887"
             ],
             [
              0.1111111111111111,
              "#46039f"
             ],
             [
              0.2222222222222222,
              "#7201a8"
             ],
             [
              0.3333333333333333,
              "#9c179e"
             ],
             [
              0.4444444444444444,
              "#bd3786"
             ],
             [
              0.5555555555555556,
              "#d8576b"
             ],
             [
              0.6666666666666666,
              "#ed7953"
             ],
             [
              0.7777777777777778,
              "#fb9f3a"
             ],
             [
              0.8888888888888888,
              "#fdca26"
             ],
             [
              1,
              "#f0f921"
             ]
            ],
            "type": "histogram2dcontour"
           }
          ],
          "mesh3d": [
           {
            "colorbar": {
             "outlinewidth": 0,
             "ticks": ""
            },
            "type": "mesh3d"
           }
          ],
          "parcoords": [
           {
            "line": {
             "colorbar": {
              "outlinewidth": 0,
              "ticks": ""
             }
            },
            "type": "parcoords"
           }
          ],
          "pie": [
           {
            "automargin": true,
            "type": "pie"
           }
          ],
          "scatter": [
           {
            "fillpattern": {
             "fillmode": "overlay",
             "size": 10,
             "solidity": 0.2
            },
            "type": "scatter"
           }
          ],
          "scatter3d": [
           {
            "line": {
             "colorbar": {
              "outlinewidth": 0,
              "ticks": ""
             }
            },
            "marker": {
             "colorbar": {
              "outlinewidth": 0,
              "ticks": ""
             }
            },
            "type": "scatter3d"
           }
          ],
          "scattercarpet": [
           {
            "marker": {
             "colorbar": {
              "outlinewidth": 0,
              "ticks": ""
             }
            },
            "type": "scattercarpet"
           }
          ],
          "scattergeo": [
           {
            "marker": {
             "colorbar": {
              "outlinewidth": 0,
              "ticks": ""
             }
            },
            "type": "scattergeo"
           }
          ],
          "scattergl": [
           {
            "marker": {
             "colorbar": {
              "outlinewidth": 0,
              "ticks": ""
             }
            },
            "type": "scattergl"
           }
          ],
          "scattermapbox": [
           {
            "marker": {
             "colorbar": {
              "outlinewidth": 0,
              "ticks": ""
             }
            },
            "type": "scattermapbox"
           }
          ],
          "scatterpolar": [
           {
            "marker": {
             "colorbar": {
              "outlinewidth": 0,
              "ticks": ""
             }
            },
            "type": "scatterpolar"
           }
          ],
          "scatterpolargl": [
           {
            "marker": {
             "colorbar": {
              "outlinewidth": 0,
              "ticks": ""
             }
            },
            "type": "scatterpolargl"
           }
          ],
          "scatterternary": [
           {
            "marker": {
             "colorbar": {
              "outlinewidth": 0,
              "ticks": ""
             }
            },
            "type": "scatterternary"
           }
          ],
          "surface": [
           {
            "colorbar": {
             "outlinewidth": 0,
             "ticks": ""
            },
            "colorscale": [
             [
              0,
              "#0d0887"
             ],
             [
              0.1111111111111111,
              "#46039f"
             ],
             [
              0.2222222222222222,
              "#7201a8"
             ],
             [
              0.3333333333333333,
              "#9c179e"
             ],
             [
              0.4444444444444444,
              "#bd3786"
             ],
             [
              0.5555555555555556,
              "#d8576b"
             ],
             [
              0.6666666666666666,
              "#ed7953"
             ],
             [
              0.7777777777777778,
              "#fb9f3a"
             ],
             [
              0.8888888888888888,
              "#fdca26"
             ],
             [
              1,
              "#f0f921"
             ]
            ],
            "type": "surface"
           }
          ],
          "table": [
           {
            "cells": {
             "fill": {
              "color": "#EBF0F8"
             },
             "line": {
              "color": "white"
             }
            },
            "header": {
             "fill": {
              "color": "#C8D4E3"
             },
             "line": {
              "color": "white"
             }
            },
            "type": "table"
           }
          ]
         },
         "layout": {
          "annotationdefaults": {
           "arrowcolor": "#2a3f5f",
           "arrowhead": 0,
           "arrowwidth": 1
          },
          "autotypenumbers": "strict",
          "coloraxis": {
           "colorbar": {
            "outlinewidth": 0,
            "ticks": ""
           }
          },
          "colorscale": {
           "diverging": [
            [
             0,
             "#8e0152"
            ],
            [
             0.1,
             "#c51b7d"
            ],
            [
             0.2,
             "#de77ae"
            ],
            [
             0.3,
             "#f1b6da"
            ],
            [
             0.4,
             "#fde0ef"
            ],
            [
             0.5,
             "#f7f7f7"
            ],
            [
             0.6,
             "#e6f5d0"
            ],
            [
             0.7,
             "#b8e186"
            ],
            [
             0.8,
             "#7fbc41"
            ],
            [
             0.9,
             "#4d9221"
            ],
            [
             1,
             "#276419"
            ]
           ],
           "sequential": [
            [
             0,
             "#0d0887"
            ],
            [
             0.1111111111111111,
             "#46039f"
            ],
            [
             0.2222222222222222,
             "#7201a8"
            ],
            [
             0.3333333333333333,
             "#9c179e"
            ],
            [
             0.4444444444444444,
             "#bd3786"
            ],
            [
             0.5555555555555556,
             "#d8576b"
            ],
            [
             0.6666666666666666,
             "#ed7953"
            ],
            [
             0.7777777777777778,
             "#fb9f3a"
            ],
            [
             0.8888888888888888,
             "#fdca26"
            ],
            [
             1,
             "#f0f921"
            ]
           ],
           "sequentialminus": [
            [
             0,
             "#0d0887"
            ],
            [
             0.1111111111111111,
             "#46039f"
            ],
            [
             0.2222222222222222,
             "#7201a8"
            ],
            [
             0.3333333333333333,
             "#9c179e"
            ],
            [
             0.4444444444444444,
             "#bd3786"
            ],
            [
             0.5555555555555556,
             "#d8576b"
            ],
            [
             0.6666666666666666,
             "#ed7953"
            ],
            [
             0.7777777777777778,
             "#fb9f3a"
            ],
            [
             0.8888888888888888,
             "#fdca26"
            ],
            [
             1,
             "#f0f921"
            ]
           ]
          },
          "colorway": [
           "#636efa",
           "#EF553B",
           "#00cc96",
           "#ab63fa",
           "#FFA15A",
           "#19d3f3",
           "#FF6692",
           "#B6E880",
           "#FF97FF",
           "#FECB52"
          ],
          "font": {
           "color": "#2a3f5f"
          },
          "geo": {
           "bgcolor": "white",
           "lakecolor": "white",
           "landcolor": "#E5ECF6",
           "showlakes": true,
           "showland": true,
           "subunitcolor": "white"
          },
          "hoverlabel": {
           "align": "left"
          },
          "hovermode": "closest",
          "mapbox": {
           "style": "light"
          },
          "paper_bgcolor": "white",
          "plot_bgcolor": "#E5ECF6",
          "polar": {
           "angularaxis": {
            "gridcolor": "white",
            "linecolor": "white",
            "ticks": ""
           },
           "bgcolor": "#E5ECF6",
           "radialaxis": {
            "gridcolor": "white",
            "linecolor": "white",
            "ticks": ""
           }
          },
          "scene": {
           "xaxis": {
            "backgroundcolor": "#E5ECF6",
            "gridcolor": "white",
            "gridwidth": 2,
            "linecolor": "white",
            "showbackground": true,
            "ticks": "",
            "zerolinecolor": "white"
           },
           "yaxis": {
            "backgroundcolor": "#E5ECF6",
            "gridcolor": "white",
            "gridwidth": 2,
            "linecolor": "white",
            "showbackground": true,
            "ticks": "",
            "zerolinecolor": "white"
           },
           "zaxis": {
            "backgroundcolor": "#E5ECF6",
            "gridcolor": "white",
            "gridwidth": 2,
            "linecolor": "white",
            "showbackground": true,
            "ticks": "",
            "zerolinecolor": "white"
           }
          },
          "shapedefaults": {
           "line": {
            "color": "#2a3f5f"
           }
          },
          "ternary": {
           "aaxis": {
            "gridcolor": "white",
            "linecolor": "white",
            "ticks": ""
           },
           "baxis": {
            "gridcolor": "white",
            "linecolor": "white",
            "ticks": ""
           },
           "bgcolor": "#E5ECF6",
           "caxis": {
            "gridcolor": "white",
            "linecolor": "white",
            "ticks": ""
           }
          },
          "title": {
           "x": 0.05
          },
          "xaxis": {
           "automargin": true,
           "gridcolor": "white",
           "linecolor": "white",
           "ticks": "",
           "title": {
            "standoff": 15
           },
           "zerolinecolor": "white",
           "zerolinewidth": 2
          },
          "yaxis": {
           "automargin": true,
           "gridcolor": "white",
           "linecolor": "white",
           "ticks": "",
           "title": {
            "standoff": 15
           },
           "zerolinecolor": "white",
           "zerolinewidth": 2
          }
         }
        },
        "title": {
         "text": "Exhibition Distribution for Edouard Vuillard"
        },
        "updatemenus": [
         {
          "buttons": [
           {
            "args": [
             {
              "locations": [
               [
                "AUT",
                "BEL",
                "CHE",
                "CZE",
                "DEU",
                "FRA",
                "GBR",
                "HUN",
                "ITA",
                null,
                "NLD",
                "RUS",
                "UKR",
                "USA"
               ]
              ],
              "text": [
               [
                "AT",
                "BE",
                "CH",
                "CZ",
                "DE",
                "FR",
                "GB",
                "HU",
                "IT",
                "LV",
                "NL",
                "RU",
                "UA",
                "US"
               ]
              ],
              "z": [
               [
                2.302585092994046,
                3.784189633918261,
                1.9459101490553132,
                2.3978952727983707,
                4.543294782270004,
                5.707110264748875,
                0.6931471805599453,
                2.0794415416798357,
                2.302585092994046,
                1.9459101490553132,
                1.0986122886681098,
                2.5649493574615367,
                2.5649493574615367,
                1.791759469228055
               ]
              ]
             },
             {
              "title": "Exhibition Distribution for Edouard Vuillard"
             }
            ],
            "label": "Edouard Vuillard",
            "method": "update"
           },
           {
            "args": [
             {
              "locations": [
               [
                "AUT",
                "BEL",
                "CHE",
                "CZE",
                "DEU",
                "FRA",
                "GBR",
                "HUN",
                "ITA",
                null,
                "NLD",
                "RUS",
                "UKR",
                "USA"
               ]
              ],
              "text": [
               [
                "AT",
                "BE",
                "CH",
                "CZ",
                "DE",
                "FR",
                "GB",
                "HU",
                "IT",
                "LV",
                "NL",
                "RU",
                "UA",
                "US"
               ]
              ],
              "z": [
               [
                2.3978952727983707,
                3.4339872044851463,
                1.6094379124341003,
                3.4339872044851463,
                3.2188758248682006,
                5.272999558563747,
                1.6094379124341003,
                0.6931471805599453,
                1.0986122886681098,
                2.302585092994046,
                1.0986122886681098,
                2.70805020110221,
                2.9444389791664403,
                2.772588722239781
               ]
              ]
             },
             {
              "title": "Exhibition Distribution for Henri Charles Manguin"
             }
            ],
            "label": "Henri Charles Manguin",
            "method": "update"
           },
           {
            "args": [
             {
              "locations": [
               [
                "AUT",
                "BEL",
                "CHE",
                "CZE",
                "DEU",
                "FRA",
                "GBR",
                "HUN",
                "ITA",
                null,
                "NLD",
                "RUS",
                "UKR",
                "USA"
               ]
              ],
              "text": [
               [
                "AT",
                "BE",
                "CH",
                "CZ",
                "DE",
                "FR",
                "GB",
                "HU",
                "IT",
                "LV",
                "NL",
                "RU",
                "UA",
                "US"
               ]
              ],
              "z": [
               [
                2.70805020110221,
                3.5553480614894135,
                2.1972245773362196,
                1.9459101490553132,
                3.6109179126442243,
                5.6937321388027,
                2.995732273553991,
                1.791759469228055,
                2.6390573296152584,
                2.302585092994046,
                1.3862943611198906,
                2.8903717578961645,
                2.9444389791664403,
                3.4657359027997265
               ]
              ]
             },
             {
              "title": "Exhibition Distribution for Maurice Denis"
             }
            ],
            "label": "Maurice Denis",
            "method": "update"
           },
           {
            "args": [
             {
              "locations": [
               [
                "AUT",
                "BEL",
                "CHE",
                "CZE",
                "DEU",
                "FRA",
                "GBR",
                "HUN",
                "ITA",
                null,
                "NLD",
                "RUS",
                "UKR",
                "USA"
               ]
              ],
              "text": [
               [
                "AT",
                "BE",
                "CH",
                "CZ",
                "DE",
                "FR",
                "GB",
                "HU",
                "IT",
                "LV",
                "NL",
                "RU",
                "UA",
                "US"
               ]
              ],
              "z": [
               [
                0.6931471805599453,
                4.04305126783455,
                1.9459101490553132,
                2.5649493574615367,
                4.499809670330265,
                5.58724865840025,
                2.0794415416798357,
                2.0794415416798357,
                1.791759469228055,
                2.302585092994046,
                2.1972245773362196,
                2.833213344056216,
                2.9444389791664403,
                3.713572066704308
               ]
              ]
             },
             {
              "title": "Exhibition Distribution for Paul Signac"
             }
            ],
            "label": "Paul Signac",
            "method": "update"
           },
           {
            "args": [
             {
              "locations": [
               [
                "AUT",
                "BEL",
                "CHE",
                "CZE",
                "DEU",
                "FRA",
                "GBR",
                "HUN",
                "ITA",
                null,
                "NLD",
                "RUS",
                "UKR",
                "USA"
               ]
              ],
              "text": [
               [
                "AT",
                "BE",
                "CH",
                "CZ",
                "DE",
                "FR",
                "GB",
                "HU",
                "IT",
                "LV",
                "NL",
                "RU",
                "UA",
                "US"
               ]
              ],
              "z": [
               [
                2.6390573296152584,
                3.8501476017100584,
                1.9459101490553132,
                2.5649493574615367,
                4.61512051684126,
                5.75890177387728,
                1.6094379124341003,
                2.0794415416798357,
                1.3862943611198906,
                1.9459101490553132,
                1.0986122886681098,
                2.5649493574615367,
                2.5649493574615367,
                1.6094379124341003
               ]
              ]
             },
             {
              "title": "Exhibition Distribution for Pierre Bonnard"
             }
            ],
            "label": "Pierre Bonnard",
            "method": "update"
           },
           {
            "args": [
             {
              "locations": [
               [
                "FRA"
               ]
              ],
              "text": [
               [
                "FR"
               ]
              ],
              "z": [
               [
                2.1972245773362196
               ]
              ]
             },
             {
              "title": "Exhibition Distribution for Émile Norman Saint-Marcel"
             }
            ],
            "label": "Émile Norman Saint-Marcel",
            "method": "update"
           },
           {
            "args": [
             {
              "locations": [
               [
                "FRA"
               ]
              ],
              "text": [
               [
                "FR"
               ]
              ],
              "z": [
               [
                0.6931471805599453
               ]
              ]
             },
             {
              "title": "Exhibition Distribution for Émile Pierre Metzmacher"
             }
            ],
            "label": "Émile Pierre Metzmacher",
            "method": "update"
           },
           {
            "args": [
             {
              "locations": [
               [
                "BEL"
               ]
              ],
              "text": [
               [
                "BE"
               ]
              ],
              "z": [
               [
                2.0794415416798357
               ]
              ]
             },
             {
              "title": "Exhibition Distribution for Émile Pierre de La Montagne"
             }
            ],
            "label": "Émile Pierre de La Montagne",
            "method": "update"
           },
           {
            "args": [
             {
              "locations": [
               [
                "FRA"
               ]
              ],
              "text": [
               [
                "FR"
               ]
              ],
              "z": [
               [
                2.772588722239781
               ]
              ]
             },
             {
              "title": "Exhibition Distribution for Émile Pinchon"
             }
            ],
            "label": "Émile Pinchon",
            "method": "update"
           },
           {
            "args": [
             {
              "locations": [
               [
                "FRA"
               ]
              ],
              "text": [
               [
                "FR"
               ]
              ],
              "z": [
               [
                2.1972245773362196
               ]
              ]
             },
             {
              "title": "Exhibition Distribution for Émile Raulin"
             }
            ],
            "label": "Émile Raulin",
            "method": "update"
           }
          ],
          "direction": "down",
          "showactive": true,
          "x": 0.1,
          "y": 1
         }
        ]
       }
      }
     },
     "metadata": {},
     "output_type": "display_data"
    }
   ],
   "source": [
    "\n",
    "filtered_df['log_num_exhibitions'] = np.log1p(filtered_df['num_exhibitions'])\n",
    "\n",
    "# Determine the fixed color range for all artists\n",
    "log_color_min = filtered_df['log_num_exhibitions'].min()\n",
    "log_color_max = filtered_df['log_num_exhibitions'].max()\n",
    "\n",
    "# Initialize the figure with the data of the first artist\n",
    "first_artist = filtered_df['artist_name'].unique()[0]\n",
    "artist_data = filtered_df[filtered_df['artist_name'] == first_artist]\n",
    "\n",
    "fig = go.Figure(data=go.Choropleth(\n",
    "    locations=artist_data['e.country_3'],  # ISO-3 country codes\n",
    "    z=artist_data['log_num_exhibitions'],  # Log-transformed number of exhibitions\n",
    "    text=artist_data['e.country'],        # Country name\n",
    "    colorscale='Plasma',\n",
    "    zmin=log_color_min,\n",
    "    zmax=log_color_max,\n",
    "    colorbar=dict(title=\"Exhibitions (Log Scale)\")\n",
    "))\n",
    "\n",
    "# Add buttons for the dropdown menu\n",
    "buttons = []\n",
    "for artist in filtered_df['artist_name'].unique():\n",
    "    artist_data = filtered_df[filtered_df['artist_name'] == artist]\n",
    "    buttons.append(\n",
    "        dict(\n",
    "            label=artist,\n",
    "            method=\"update\",\n",
    "            args=[\n",
    "                {\"z\": [artist_data['log_num_exhibitions']],\n",
    "                 \"locations\": [artist_data['e.country_3']],\n",
    "                 \"text\": [artist_data['e.country']]},\n",
    "                {\"title\": f\"Exhibition Distribution for {artist}\"}\n",
    "            ]\n",
    "        )\n",
    "    )\n",
    "\n",
    "# Update layout with dropdown menu and fixed color bar\n",
    "fig.update_layout(\n",
    "    updatemenus=[{\n",
    "        \"buttons\": buttons,\n",
    "        \"direction\": \"down\",\n",
    "        \"showactive\": True,\n",
    "        \"x\": 0.1,\n",
    "        \"y\": 1\n",
    "    }],\n",
    "    geo=dict(\n",
    "        projection_type=\"natural earth\",\n",
    "        showcoastlines=True, coastlinecolor=\"Black\",\n",
    "        showland=True, landcolor=\"lightgray\"\n",
    "    ),\n",
    "    title=f\"Exhibition Distribution for {first_artist}\",\n",
    "    coloraxis_colorbar=dict(\n",
    "        title=\"Exhibitions (Log Scale)\"\n",
    "    )\n",
    ")\n",
    "\n",
    "# Save the figure\n",
    "fig.write_html(\"interactive_artist_fixed_color_map.html\")\n",
    "\n",
    "# Show the figure\n",
    "fig.show()\n"
   ]
  }
 ],
 "metadata": {
  "kernelspec": {
   "display_name": "Python 3",
   "language": "python",
   "name": "python3"
  },
  "language_info": {
   "codemirror_mode": {
    "name": "ipython",
    "version": 3
   },
   "file_extension": ".py",
   "mimetype": "text/x-python",
   "name": "python",
   "nbconvert_exporter": "python",
   "pygments_lexer": "ipython3",
   "version": "3.11.9"
  }
 },
 "nbformat": 4,
 "nbformat_minor": 2
}
