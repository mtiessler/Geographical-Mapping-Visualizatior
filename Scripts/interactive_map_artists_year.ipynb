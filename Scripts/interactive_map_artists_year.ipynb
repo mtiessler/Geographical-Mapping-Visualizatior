{
 "cells": [
  {
   "cell_type": "code",
   "execution_count": 24,
   "metadata": {},
   "outputs": [],
   "source": [
    "import numpy as np\n",
    "import pandas as pd\n",
    "import os\n",
    "import matplotlib.pyplot as plt\n",
    "import seaborn as sns\n",
    "import scipy.stats as stats\n",
    "import matplotlib.gridspec as gridspec\n",
    "from scipy.io import arff\n",
    "from sklearn.preprocessing import LabelEncoder"
   ]
  },
  {
   "cell_type": "code",
   "execution_count": 25,
   "metadata": {},
   "outputs": [
    {
     "data": {
      "text/html": [
       "<div>\n",
       "<style scoped>\n",
       "    .dataframe tbody tr th:only-of-type {\n",
       "        vertical-align: middle;\n",
       "    }\n",
       "\n",
       "    .dataframe tbody tr th {\n",
       "        vertical-align: top;\n",
       "    }\n",
       "\n",
       "    .dataframe thead th {\n",
       "        text-align: right;\n",
       "    }\n",
       "</style>\n",
       "<table border=\"1\" class=\"dataframe\">\n",
       "  <thead>\n",
       "    <tr style=\"text-align: right;\">\n",
       "      <th></th>\n",
       "      <th>artist_name</th>\n",
       "      <th>e.country</th>\n",
       "      <th>e.country_3</th>\n",
       "      <th>e.startdate</th>\n",
       "      <th>num_exhibitions</th>\n",
       "    </tr>\n",
       "  </thead>\n",
       "  <tbody>\n",
       "    <tr>\n",
       "      <th>0</th>\n",
       "      <td>1 unknown</td>\n",
       "      <td>BE</td>\n",
       "      <td>BEL</td>\n",
       "      <td>1908</td>\n",
       "      <td>2</td>\n",
       "    </tr>\n",
       "    <tr>\n",
       "      <th>1</th>\n",
       "      <td>2 unknown</td>\n",
       "      <td>FR</td>\n",
       "      <td>FRA</td>\n",
       "      <td>1906</td>\n",
       "      <td>1</td>\n",
       "    </tr>\n",
       "    <tr>\n",
       "      <th>2</th>\n",
       "      <td>A L Millich</td>\n",
       "      <td>GB</td>\n",
       "      <td>GBR</td>\n",
       "      <td>1907</td>\n",
       "      <td>2</td>\n",
       "    </tr>\n",
       "    <tr>\n",
       "      <th>3</th>\n",
       "      <td>A Molitor</td>\n",
       "      <td>BE</td>\n",
       "      <td>BEL</td>\n",
       "      <td>1914</td>\n",
       "      <td>2</td>\n",
       "    </tr>\n",
       "    <tr>\n",
       "      <th>4</th>\n",
       "      <td>A. A. Baryshnikov</td>\n",
       "      <td>RU</td>\n",
       "      <td>RUS</td>\n",
       "      <td>1914</td>\n",
       "      <td>1</td>\n",
       "    </tr>\n",
       "  </tbody>\n",
       "</table>\n",
       "</div>"
      ],
      "text/plain": [
       "         artist_name e.country e.country_3  e.startdate  num_exhibitions\n",
       "0          1 unknown        BE         BEL         1908                2\n",
       "1          2 unknown        FR         FRA         1906                1\n",
       "2        A L Millich        GB         GBR         1907                2\n",
       "3          A Molitor        BE         BEL         1914                2\n",
       "4  A. A. Baryshnikov        RU         RUS         1914                1"
      ]
     },
     "metadata": {},
     "output_type": "display_data"
    }
   ],
   "source": [
    "artists_path = os.path.join('D:\\\\', 'artists')\n",
    "original_datasets_path = os.path.abspath(artists_path)\n",
    "\n",
    "# Load data\n",
    "def load_data(artists_datasets_path: str):\n",
    "    artist_data = pd.read_csv(artists_datasets_path, delimiter=\",\")  # Intenta también con \"\\t\"\n",
    "    return artist_data\n",
    "\n",
    "\n",
    "# Load data \n",
    "artists_datasets_path = os.path.join(artists_path, 'year_df_filtered.csv')\n",
    "year_df_filtered = load_data(artists_datasets_path)\n",
    "\n",
    "# Show first records and DataFrame information\n",
    "display(year_df_filtered.head())\n"
   ]
  },
  {
   "cell_type": "code",
   "execution_count": 26,
   "metadata": {},
   "outputs": [
    {
     "name": "stdout",
     "output_type": "stream",
     "text": [
      "Top 5 artists with the most records:\n",
      "             artist_name  count\n",
      "0       Edouard Vuillard     47\n",
      "1         Pierre Bonnard     44\n",
      "2          Maurice Denis     43\n",
      "3  Pierre-Auguste Renoir     42\n",
      "4          Henri Matisse     42\n",
      "\n",
      "Bottom 5 artists with the fewest records:\n",
      "                     artist_name  count\n",
      "13261  Émile Norman Saint-Marcel      1\n",
      "13262    Émile Pierre Metzmacher      1\n",
      "13263            Helen Whitfield      1\n",
      "13264          Helena Blankstein      1\n",
      "13265               Émile Raulin      1\n",
      "\n",
      "Filtered DataFrame with Top 5 and Bottom 5 artists:\n"
     ]
    },
    {
     "data": {
      "text/html": [
       "<div>\n",
       "<style scoped>\n",
       "    .dataframe tbody tr th:only-of-type {\n",
       "        vertical-align: middle;\n",
       "    }\n",
       "\n",
       "    .dataframe tbody tr th {\n",
       "        vertical-align: top;\n",
       "    }\n",
       "\n",
       "    .dataframe thead th {\n",
       "        text-align: right;\n",
       "    }\n",
       "</style>\n",
       "<table border=\"1\" class=\"dataframe\">\n",
       "  <thead>\n",
       "    <tr style=\"text-align: right;\">\n",
       "      <th></th>\n",
       "      <th>artist_name</th>\n",
       "      <th>e.country</th>\n",
       "      <th>e.country_3</th>\n",
       "      <th>e.startdate</th>\n",
       "      <th>num_exhibitions</th>\n",
       "    </tr>\n",
       "  </thead>\n",
       "  <tbody>\n",
       "    <tr>\n",
       "      <th>8350</th>\n",
       "      <td>Edouard Vuillard</td>\n",
       "      <td>AT</td>\n",
       "      <td>AUT</td>\n",
       "      <td>1909</td>\n",
       "      <td>4</td>\n",
       "    </tr>\n",
       "    <tr>\n",
       "      <th>8351</th>\n",
       "      <td>Edouard Vuillard</td>\n",
       "      <td>AT</td>\n",
       "      <td>AUT</td>\n",
       "      <td>1912</td>\n",
       "      <td>1</td>\n",
       "    </tr>\n",
       "    <tr>\n",
       "      <th>8352</th>\n",
       "      <td>Edouard Vuillard</td>\n",
       "      <td>AT</td>\n",
       "      <td>AUT</td>\n",
       "      <td>1913</td>\n",
       "      <td>2</td>\n",
       "    </tr>\n",
       "    <tr>\n",
       "      <th>8353</th>\n",
       "      <td>Edouard Vuillard</td>\n",
       "      <td>AT</td>\n",
       "      <td>AUT</td>\n",
       "      <td>1914</td>\n",
       "      <td>2</td>\n",
       "    </tr>\n",
       "    <tr>\n",
       "      <th>8354</th>\n",
       "      <td>Edouard Vuillard</td>\n",
       "      <td>BE</td>\n",
       "      <td>BEL</td>\n",
       "      <td>1908</td>\n",
       "      <td>6</td>\n",
       "    </tr>\n",
       "    <tr>\n",
       "      <th>...</th>\n",
       "      <td>...</td>\n",
       "      <td>...</td>\n",
       "      <td>...</td>\n",
       "      <td>...</td>\n",
       "      <td>...</td>\n",
       "    </tr>\n",
       "    <tr>\n",
       "      <th>30276</th>\n",
       "      <td>Pierre-Auguste Renoir</td>\n",
       "      <td>US</td>\n",
       "      <td>USA</td>\n",
       "      <td>1912</td>\n",
       "      <td>1</td>\n",
       "    </tr>\n",
       "    <tr>\n",
       "      <th>30277</th>\n",
       "      <td>Pierre-Auguste Renoir</td>\n",
       "      <td>US</td>\n",
       "      <td>USA</td>\n",
       "      <td>1913</td>\n",
       "      <td>11</td>\n",
       "    </tr>\n",
       "    <tr>\n",
       "      <th>36747</th>\n",
       "      <td>Émile Norman Saint-Marcel</td>\n",
       "      <td>FR</td>\n",
       "      <td>FRA</td>\n",
       "      <td>1907</td>\n",
       "      <td>8</td>\n",
       "    </tr>\n",
       "    <tr>\n",
       "      <th>36748</th>\n",
       "      <td>Émile Pierre Metzmacher</td>\n",
       "      <td>FR</td>\n",
       "      <td>FRA</td>\n",
       "      <td>1906</td>\n",
       "      <td>1</td>\n",
       "    </tr>\n",
       "    <tr>\n",
       "      <th>36753</th>\n",
       "      <td>Émile Raulin</td>\n",
       "      <td>FR</td>\n",
       "      <td>FRA</td>\n",
       "      <td>1906</td>\n",
       "      <td>8</td>\n",
       "    </tr>\n",
       "  </tbody>\n",
       "</table>\n",
       "<p>223 rows × 5 columns</p>\n",
       "</div>"
      ],
      "text/plain": [
       "                     artist_name e.country e.country_3  e.startdate  \\\n",
       "8350            Edouard Vuillard        AT         AUT         1909   \n",
       "8351            Edouard Vuillard        AT         AUT         1912   \n",
       "8352            Edouard Vuillard        AT         AUT         1913   \n",
       "8353            Edouard Vuillard        AT         AUT         1914   \n",
       "8354            Edouard Vuillard        BE         BEL         1908   \n",
       "...                          ...       ...         ...          ...   \n",
       "30276      Pierre-Auguste Renoir        US         USA         1912   \n",
       "30277      Pierre-Auguste Renoir        US         USA         1913   \n",
       "36747  Émile Norman Saint-Marcel        FR         FRA         1907   \n",
       "36748    Émile Pierre Metzmacher        FR         FRA         1906   \n",
       "36753               Émile Raulin        FR         FRA         1906   \n",
       "\n",
       "       num_exhibitions  \n",
       "8350                 4  \n",
       "8351                 1  \n",
       "8352                 2  \n",
       "8353                 2  \n",
       "8354                 6  \n",
       "...                ...  \n",
       "30276                1  \n",
       "30277               11  \n",
       "36747                8  \n",
       "36748                1  \n",
       "36753                8  \n",
       "\n",
       "[223 rows x 5 columns]"
      ]
     },
     "metadata": {},
     "output_type": "display_data"
    }
   ],
   "source": [
    "import plotly.express as px\n",
    "import numpy as np\n",
    "import plotly.graph_objects as go\n",
    "\n",
    "# Count the number of records per artist\n",
    "artist_counts = year_df_filtered['artist_name'].value_counts().reset_index()\n",
    "artist_counts.columns = ['artist_name', 'count']\n",
    "\n",
    "# Select the top 5 artists with the most records\n",
    "top_5_artists = artist_counts.head(5)\n",
    "print(\"Top 5 artists with the most records:\")\n",
    "print(top_5_artists)\n",
    "\n",
    "# Select the bottom 5 artists with the fewest records\n",
    "bottom_5_artists = artist_counts.tail(5)\n",
    "print(\"\\nBottom 5 artists with the fewest records:\")\n",
    "print(bottom_5_artists)\n",
    "\n",
    "# Combine the top 5 and bottom 5 artists into a single list\n",
    "selected_artists = pd.concat([top_5_artists, bottom_5_artists])\n",
    "\n",
    "# Filter the original DataFrame to include only the selected artists\n",
    "filtered_df = year_df_filtered[year_df_filtered['artist_name'].isin(selected_artists['artist_name'])]\n",
    "\n",
    "# Display the filtered DataFrame\n",
    "print(\"\\nFiltered DataFrame with Top 5 and Bottom 5 artists:\")\n",
    "display(filtered_df)\n",
    "\n"
   ]
  },
  {
   "cell_type": "code",
   "execution_count": 27,
   "metadata": {},
   "outputs": [
    {
     "name": "stderr",
     "output_type": "stream",
     "text": [
      "C:\\Users\\irene\\AppData\\Local\\Temp\\ipykernel_13476\\3624905549.py:2: SettingWithCopyWarning:\n",
      "\n",
      "\n",
      "A value is trying to be set on a copy of a slice from a DataFrame.\n",
      "Try using .loc[row_indexer,col_indexer] = value instead\n",
      "\n",
      "See the caveats in the documentation: https://pandas.pydata.org/pandas-docs/stable/user_guide/indexing.html#returning-a-view-versus-a-copy\n",
      "\n"
     ]
    },
    {
     "data": {
      "application/vnd.plotly.v1+json": {
       "config": {
        "plotlyServerURL": "https://plot.ly"
       },
       "data": [
        {
         "colorscale": [
          [
           0,
           "#0d0887"
          ],
          [
           0.1111111111111111,
           "#46039f"
          ],
          [
           0.2222222222222222,
           "#7201a8"
          ],
          [
           0.3333333333333333,
           "#9c179e"
          ],
          [
           0.4444444444444444,
           "#bd3786"
          ],
          [
           0.5555555555555556,
           "#d8576b"
          ],
          [
           0.6666666666666666,
           "#ed7953"
          ],
          [
           0.7777777777777778,
           "#fb9f3a"
          ],
          [
           0.8888888888888888,
           "#fdca26"
          ],
          [
           1,
           "#f0f921"
          ]
         ],
         "locations": [],
         "marker": {
          "line": {
           "color": "white",
           "width": 0.5
          }
         },
         "text": [],
         "type": "choropleth",
         "z": [],
         "zmax": 4.718498871295094,
         "zmin": 0
        }
       ],
       "layout": {
        "coloraxis": {
         "colorbar": {
          "title": {
           "text": "Exhibitions (Log Scale)"
          }
         }
        },
        "geo": {
         "coastlinecolor": "Black",
         "landcolor": "lightgray",
         "projection": {
          "type": "natural earth"
         },
         "showcoastlines": true,
         "showland": true
        },
        "sliders": [
         {
          "active": 0,
          "currentvalue": {
           "prefix": "Year: "
          },
          "len": 0.9,
          "steps": [
           {
            "args": [
             {
              "locations": [
               []
              ],
              "text": [
               []
              ],
              "z": [
               []
              ]
             },
             {
              "title": "Exhibition Distribution for Edouard Vuillard, Year 1904"
             }
            ],
            "label": "1904",
            "method": "update"
           },
           {
            "args": [
             {
              "locations": [
               [
                "FRA",
                "ITA"
               ]
              ],
              "text": [
               [
                "FR",
                "IT"
               ]
              ],
              "z": [
               [
                2.9444389791664403,
                1.0986122886681098
               ]
              ]
             },
             {
              "title": "Exhibition Distribution for Edouard Vuillard, Year 1905"
             }
            ],
            "label": "1905",
            "method": "update"
           },
           {
            "args": [
             {
              "locations": [
               [
                "DEU",
                "FRA"
               ]
              ],
              "text": [
               [
                "DE",
                "FR"
               ]
              ],
              "z": [
               [
                2.5649493574615367,
                1.9459101490553132
               ]
              ]
             },
             {
              "title": "Exhibition Distribution for Edouard Vuillard, Year 1906"
             }
            ],
            "label": "1906",
            "method": "update"
           },
           {
            "args": [
             {
              "locations": [
               [
                "CZE",
                "DEU",
                "FRA",
                "ITA"
               ]
              ],
              "text": [
               [
                "CZ",
                "DE",
                "FR",
                "IT"
               ]
              ],
              "z": [
               [
                1.9459101490553132,
                2.0794415416798357,
                3.1354942159291497,
                1.0986122886681098
               ]
              ]
             },
             {
              "title": "Exhibition Distribution for Edouard Vuillard, Year 1907"
             }
            ],
            "label": "1907",
            "method": "update"
           },
           {
            "args": [
             {
              "locations": [
               [
                "BEL",
                "CHE",
                "DEU",
                "FRA"
               ]
              ],
              "text": [
               [
                "BE",
                "CH",
                "DE",
                "FR"
               ]
              ],
              "z": [
               [
                1.9459101490553132,
                1.9459101490553132,
                3.6635616461296463,
                4.532599493153256
               ]
              ]
             },
             {
              "title": "Exhibition Distribution for Edouard Vuillard, Year 1908"
             }
            ],
            "label": "1908",
            "method": "update"
           },
           {
            "args": [
             {
              "locations": [
               [
                "AUT",
                "BEL",
                "DEU",
                "FRA",
                null,
                "RUS",
                "UKR"
               ]
              ],
              "text": [
               [
                "AT",
                "BE",
                "DE",
                "FR",
                "LV",
                "RU",
                "UA"
               ]
              ],
              "z": [
               [
                1.6094379124341003,
                2.70805020110221,
                2.3978952727983707,
                3.9889840465642745,
                1.0986122886681098,
                1.0986122886681098,
                1.6094379124341003
               ]
              ]
             },
             {
              "title": "Exhibition Distribution for Edouard Vuillard, Year 1909"
             }
            ],
            "label": "1909",
            "method": "update"
           },
           {
            "args": [
             {
              "locations": [
               [
                "BEL",
                "DEU",
                "FRA",
                null,
                "RUS",
                "UKR"
               ]
              ],
              "text": [
               [
                "BE",
                "DE",
                "FR",
                "LV",
                "RU",
                "UA"
               ]
              ],
              "z": [
               [
                2.5649493574615367,
                2.1972245773362196,
                2.4849066497880004,
                1.6094379124341003,
                1.9459101490553132,
                2.1972245773362196
               ]
              ]
             },
             {
              "title": "Exhibition Distribution for Edouard Vuillard, Year 1910"
             }
            ],
            "label": "1910",
            "method": "update"
           },
           {
            "args": [
             {
              "locations": [
               [
                "BEL",
                "DEU",
                "FRA"
               ]
              ],
              "text": [
               [
                "BE",
                "DE",
                "FR"
               ]
              ],
              "z": [
               [
                1.6094379124341003,
                1.6094379124341003,
                3.6375861597263857
               ]
              ]
             },
             {
              "title": "Exhibition Distribution for Edouard Vuillard, Year 1911"
             }
            ],
            "label": "1911",
            "method": "update"
           },
           {
            "args": [
             {
              "locations": [
               [
                "AUT",
                "DEU",
                "FRA",
                "NLD",
                "RUS"
               ]
              ],
              "text": [
               [
                "AT",
                "DE",
                "FR",
                "NL",
                "RU"
               ]
              ],
              "z": [
               [
                0.6931471805599453,
                2.1972245773362196,
                3.4657359027997265,
                1.0986122886681098,
                1.6094379124341003
               ]
              ]
             },
             {
              "title": "Exhibition Distribution for Edouard Vuillard, Year 1912"
             }
            ],
            "label": "1912",
            "method": "update"
           },
           {
            "args": [
             {
              "locations": [
               [
                "AUT",
                "BEL",
                "DEU",
                "FRA",
                "GBR",
                "HUN",
                "ITA",
                "USA"
               ]
              ],
              "text": [
               [
                "AT",
                "BE",
                "DE",
                "FR",
                "GB",
                "HU",
                "IT",
                "US"
               ]
              ],
              "z": [
               [
                1.0986122886681098,
                1.3862943611198906,
                1.0986122886681098,
                2.9444389791664403,
                0.6931471805599453,
                2.0794415416798357,
                1.0986122886681098,
                1.791759469228055
               ]
              ]
             },
             {
              "title": "Exhibition Distribution for Edouard Vuillard, Year 1913"
             }
            ],
            "label": "1913",
            "method": "update"
           },
           {
            "args": [
             {
              "locations": [
               [
                "AUT",
                "BEL",
                "CZE",
                "DEU",
                "FRA"
               ]
              ],
              "text": [
               [
                "AT",
                "BE",
                "CZ",
                "DE",
                "FR"
               ]
              ],
              "z": [
               [
                1.0986122886681098,
                1.6094379124341003,
                1.6094379124341003,
                1.6094379124341003,
                2.5649493574615367
               ]
              ]
             },
             {
              "title": "Exhibition Distribution for Edouard Vuillard, Year 1914"
             }
            ],
            "label": "1914",
            "method": "update"
           },
           {
            "args": [
             {
              "locations": [
               [
                "ITA"
               ]
              ],
              "text": [
               [
                "IT"
               ]
              ],
              "z": [
               [
                1.3862943611198906
               ]
              ]
             },
             {
              "title": "Exhibition Distribution for Edouard Vuillard, Year 1915"
             }
            ],
            "label": "1915",
            "method": "update"
           }
          ],
          "x": 0.015
         }
        ],
        "template": {
         "data": {
          "bar": [
           {
            "error_x": {
             "color": "#2a3f5f"
            },
            "error_y": {
             "color": "#2a3f5f"
            },
            "marker": {
             "line": {
              "color": "#E5ECF6",
              "width": 0.5
             },
             "pattern": {
              "fillmode": "overlay",
              "size": 10,
              "solidity": 0.2
             }
            },
            "type": "bar"
           }
          ],
          "barpolar": [
           {
            "marker": {
             "line": {
              "color": "#E5ECF6",
              "width": 0.5
             },
             "pattern": {
              "fillmode": "overlay",
              "size": 10,
              "solidity": 0.2
             }
            },
            "type": "barpolar"
           }
          ],
          "carpet": [
           {
            "aaxis": {
             "endlinecolor": "#2a3f5f",
             "gridcolor": "white",
             "linecolor": "white",
             "minorgridcolor": "white",
             "startlinecolor": "#2a3f5f"
            },
            "baxis": {
             "endlinecolor": "#2a3f5f",
             "gridcolor": "white",
             "linecolor": "white",
             "minorgridcolor": "white",
             "startlinecolor": "#2a3f5f"
            },
            "type": "carpet"
           }
          ],
          "choropleth": [
           {
            "colorbar": {
             "outlinewidth": 0,
             "ticks": ""
            },
            "type": "choropleth"
           }
          ],
          "contour": [
           {
            "colorbar": {
             "outlinewidth": 0,
             "ticks": ""
            },
            "colorscale": [
             [
              0,
              "#0d0887"
             ],
             [
              0.1111111111111111,
              "#46039f"
             ],
             [
              0.2222222222222222,
              "#7201a8"
             ],
             [
              0.3333333333333333,
              "#9c179e"
             ],
             [
              0.4444444444444444,
              "#bd3786"
             ],
             [
              0.5555555555555556,
              "#d8576b"
             ],
             [
              0.6666666666666666,
              "#ed7953"
             ],
             [
              0.7777777777777778,
              "#fb9f3a"
             ],
             [
              0.8888888888888888,
              "#fdca26"
             ],
             [
              1,
              "#f0f921"
             ]
            ],
            "type": "contour"
           }
          ],
          "contourcarpet": [
           {
            "colorbar": {
             "outlinewidth": 0,
             "ticks": ""
            },
            "type": "contourcarpet"
           }
          ],
          "heatmap": [
           {
            "colorbar": {
             "outlinewidth": 0,
             "ticks": ""
            },
            "colorscale": [
             [
              0,
              "#0d0887"
             ],
             [
              0.1111111111111111,
              "#46039f"
             ],
             [
              0.2222222222222222,
              "#7201a8"
             ],
             [
              0.3333333333333333,
              "#9c179e"
             ],
             [
              0.4444444444444444,
              "#bd3786"
             ],
             [
              0.5555555555555556,
              "#d8576b"
             ],
             [
              0.6666666666666666,
              "#ed7953"
             ],
             [
              0.7777777777777778,
              "#fb9f3a"
             ],
             [
              0.8888888888888888,
              "#fdca26"
             ],
             [
              1,
              "#f0f921"
             ]
            ],
            "type": "heatmap"
           }
          ],
          "heatmapgl": [
           {
            "colorbar": {
             "outlinewidth": 0,
             "ticks": ""
            },
            "colorscale": [
             [
              0,
              "#0d0887"
             ],
             [
              0.1111111111111111,
              "#46039f"
             ],
             [
              0.2222222222222222,
              "#7201a8"
             ],
             [
              0.3333333333333333,
              "#9c179e"
             ],
             [
              0.4444444444444444,
              "#bd3786"
             ],
             [
              0.5555555555555556,
              "#d8576b"
             ],
             [
              0.6666666666666666,
              "#ed7953"
             ],
             [
              0.7777777777777778,
              "#fb9f3a"
             ],
             [
              0.8888888888888888,
              "#fdca26"
             ],
             [
              1,
              "#f0f921"
             ]
            ],
            "type": "heatmapgl"
           }
          ],
          "histogram": [
           {
            "marker": {
             "pattern": {
              "fillmode": "overlay",
              "size": 10,
              "solidity": 0.2
             }
            },
            "type": "histogram"
           }
          ],
          "histogram2d": [
           {
            "colorbar": {
             "outlinewidth": 0,
             "ticks": ""
            },
            "colorscale": [
             [
              0,
              "#0d0887"
             ],
             [
              0.1111111111111111,
              "#46039f"
             ],
             [
              0.2222222222222222,
              "#7201a8"
             ],
             [
              0.3333333333333333,
              "#9c179e"
             ],
             [
              0.4444444444444444,
              "#bd3786"
             ],
             [
              0.5555555555555556,
              "#d8576b"
             ],
             [
              0.6666666666666666,
              "#ed7953"
             ],
             [
              0.7777777777777778,
              "#fb9f3a"
             ],
             [
              0.8888888888888888,
              "#fdca26"
             ],
             [
              1,
              "#f0f921"
             ]
            ],
            "type": "histogram2d"
           }
          ],
          "histogram2dcontour": [
           {
            "colorbar": {
             "outlinewidth": 0,
             "ticks": ""
            },
            "colorscale": [
             [
              0,
              "#0d0887"
             ],
             [
              0.1111111111111111,
              "#46039f"
             ],
             [
              0.2222222222222222,
              "#7201a8"
             ],
             [
              0.3333333333333333,
              "#9c179e"
             ],
             [
              0.4444444444444444,
              "#bd3786"
             ],
             [
              0.5555555555555556,
              "#d8576b"
             ],
             [
              0.6666666666666666,
              "#ed7953"
             ],
             [
              0.7777777777777778,
              "#fb9f3a"
             ],
             [
              0.8888888888888888,
              "#fdca26"
             ],
             [
              1,
              "#f0f921"
             ]
            ],
            "type": "histogram2dcontour"
           }
          ],
          "mesh3d": [
           {
            "colorbar": {
             "outlinewidth": 0,
             "ticks": ""
            },
            "type": "mesh3d"
           }
          ],
          "parcoords": [
           {
            "line": {
             "colorbar": {
              "outlinewidth": 0,
              "ticks": ""
             }
            },
            "type": "parcoords"
           }
          ],
          "pie": [
           {
            "automargin": true,
            "type": "pie"
           }
          ],
          "scatter": [
           {
            "fillpattern": {
             "fillmode": "overlay",
             "size": 10,
             "solidity": 0.2
            },
            "type": "scatter"
           }
          ],
          "scatter3d": [
           {
            "line": {
             "colorbar": {
              "outlinewidth": 0,
              "ticks": ""
             }
            },
            "marker": {
             "colorbar": {
              "outlinewidth": 0,
              "ticks": ""
             }
            },
            "type": "scatter3d"
           }
          ],
          "scattercarpet": [
           {
            "marker": {
             "colorbar": {
              "outlinewidth": 0,
              "ticks": ""
             }
            },
            "type": "scattercarpet"
           }
          ],
          "scattergeo": [
           {
            "marker": {
             "colorbar": {
              "outlinewidth": 0,
              "ticks": ""
             }
            },
            "type": "scattergeo"
           }
          ],
          "scattergl": [
           {
            "marker": {
             "colorbar": {
              "outlinewidth": 0,
              "ticks": ""
             }
            },
            "type": "scattergl"
           }
          ],
          "scattermapbox": [
           {
            "marker": {
             "colorbar": {
              "outlinewidth": 0,
              "ticks": ""
             }
            },
            "type": "scattermapbox"
           }
          ],
          "scatterpolar": [
           {
            "marker": {
             "colorbar": {
              "outlinewidth": 0,
              "ticks": ""
             }
            },
            "type": "scatterpolar"
           }
          ],
          "scatterpolargl": [
           {
            "marker": {
             "colorbar": {
              "outlinewidth": 0,
              "ticks": ""
             }
            },
            "type": "scatterpolargl"
           }
          ],
          "scatterternary": [
           {
            "marker": {
             "colorbar": {
              "outlinewidth": 0,
              "ticks": ""
             }
            },
            "type": "scatterternary"
           }
          ],
          "surface": [
           {
            "colorbar": {
             "outlinewidth": 0,
             "ticks": ""
            },
            "colorscale": [
             [
              0,
              "#0d0887"
             ],
             [
              0.1111111111111111,
              "#46039f"
             ],
             [
              0.2222222222222222,
              "#7201a8"
             ],
             [
              0.3333333333333333,
              "#9c179e"
             ],
             [
              0.4444444444444444,
              "#bd3786"
             ],
             [
              0.5555555555555556,
              "#d8576b"
             ],
             [
              0.6666666666666666,
              "#ed7953"
             ],
             [
              0.7777777777777778,
              "#fb9f3a"
             ],
             [
              0.8888888888888888,
              "#fdca26"
             ],
             [
              1,
              "#f0f921"
             ]
            ],
            "type": "surface"
           }
          ],
          "table": [
           {
            "cells": {
             "fill": {
              "color": "#EBF0F8"
             },
             "line": {
              "color": "white"
             }
            },
            "header": {
             "fill": {
              "color": "#C8D4E3"
             },
             "line": {
              "color": "white"
             }
            },
            "type": "table"
           }
          ]
         },
         "layout": {
          "annotationdefaults": {
           "arrowcolor": "#2a3f5f",
           "arrowhead": 0,
           "arrowwidth": 1
          },
          "autotypenumbers": "strict",
          "coloraxis": {
           "colorbar": {
            "outlinewidth": 0,
            "ticks": ""
           }
          },
          "colorscale": {
           "diverging": [
            [
             0,
             "#8e0152"
            ],
            [
             0.1,
             "#c51b7d"
            ],
            [
             0.2,
             "#de77ae"
            ],
            [
             0.3,
             "#f1b6da"
            ],
            [
             0.4,
             "#fde0ef"
            ],
            [
             0.5,
             "#f7f7f7"
            ],
            [
             0.6,
             "#e6f5d0"
            ],
            [
             0.7,
             "#b8e186"
            ],
            [
             0.8,
             "#7fbc41"
            ],
            [
             0.9,
             "#4d9221"
            ],
            [
             1,
             "#276419"
            ]
           ],
           "sequential": [
            [
             0,
             "#0d0887"
            ],
            [
             0.1111111111111111,
             "#46039f"
            ],
            [
             0.2222222222222222,
             "#7201a8"
            ],
            [
             0.3333333333333333,
             "#9c179e"
            ],
            [
             0.4444444444444444,
             "#bd3786"
            ],
            [
             0.5555555555555556,
             "#d8576b"
            ],
            [
             0.6666666666666666,
             "#ed7953"
            ],
            [
             0.7777777777777778,
             "#fb9f3a"
            ],
            [
             0.8888888888888888,
             "#fdca26"
            ],
            [
             1,
             "#f0f921"
            ]
           ],
           "sequentialminus": [
            [
             0,
             "#0d0887"
            ],
            [
             0.1111111111111111,
             "#46039f"
            ],
            [
             0.2222222222222222,
             "#7201a8"
            ],
            [
             0.3333333333333333,
             "#9c179e"
            ],
            [
             0.4444444444444444,
             "#bd3786"
            ],
            [
             0.5555555555555556,
             "#d8576b"
            ],
            [
             0.6666666666666666,
             "#ed7953"
            ],
            [
             0.7777777777777778,
             "#fb9f3a"
            ],
            [
             0.8888888888888888,
             "#fdca26"
            ],
            [
             1,
             "#f0f921"
            ]
           ]
          },
          "colorway": [
           "#636efa",
           "#EF553B",
           "#00cc96",
           "#ab63fa",
           "#FFA15A",
           "#19d3f3",
           "#FF6692",
           "#B6E880",
           "#FF97FF",
           "#FECB52"
          ],
          "font": {
           "color": "#2a3f5f"
          },
          "geo": {
           "bgcolor": "white",
           "lakecolor": "white",
           "landcolor": "#E5ECF6",
           "showlakes": true,
           "showland": true,
           "subunitcolor": "white"
          },
          "hoverlabel": {
           "align": "left"
          },
          "hovermode": "closest",
          "mapbox": {
           "style": "light"
          },
          "paper_bgcolor": "white",
          "plot_bgcolor": "#E5ECF6",
          "polar": {
           "angularaxis": {
            "gridcolor": "white",
            "linecolor": "white",
            "ticks": ""
           },
           "bgcolor": "#E5ECF6",
           "radialaxis": {
            "gridcolor": "white",
            "linecolor": "white",
            "ticks": ""
           }
          },
          "scene": {
           "xaxis": {
            "backgroundcolor": "#E5ECF6",
            "gridcolor": "white",
            "gridwidth": 2,
            "linecolor": "white",
            "showbackground": true,
            "ticks": "",
            "zerolinecolor": "white"
           },
           "yaxis": {
            "backgroundcolor": "#E5ECF6",
            "gridcolor": "white",
            "gridwidth": 2,
            "linecolor": "white",
            "showbackground": true,
            "ticks": "",
            "zerolinecolor": "white"
           },
           "zaxis": {
            "backgroundcolor": "#E5ECF6",
            "gridcolor": "white",
            "gridwidth": 2,
            "linecolor": "white",
            "showbackground": true,
            "ticks": "",
            "zerolinecolor": "white"
           }
          },
          "shapedefaults": {
           "line": {
            "color": "#2a3f5f"
           }
          },
          "ternary": {
           "aaxis": {
            "gridcolor": "white",
            "linecolor": "white",
            "ticks": ""
           },
           "baxis": {
            "gridcolor": "white",
            "linecolor": "white",
            "ticks": ""
           },
           "bgcolor": "#E5ECF6",
           "caxis": {
            "gridcolor": "white",
            "linecolor": "white",
            "ticks": ""
           }
          },
          "title": {
           "x": 0.05
          },
          "xaxis": {
           "automargin": true,
           "gridcolor": "white",
           "linecolor": "white",
           "ticks": "",
           "title": {
            "standoff": 15
           },
           "zerolinecolor": "white",
           "zerolinewidth": 2
          },
          "yaxis": {
           "automargin": true,
           "gridcolor": "white",
           "linecolor": "white",
           "ticks": "",
           "title": {
            "standoff": 15
           },
           "zerolinecolor": "white",
           "zerolinewidth": 2
          }
         }
        },
        "title": {
         "text": "Exhibition Distribution for Edouard Vuillard, Year 1904"
        },
        "updatemenus": [
         {
          "buttons": [
           {
            "args": [
             {
              "locations": [
               []
              ],
              "text": [
               []
              ],
              "z": [
               []
              ]
             },
             {
              "title": "Exhibition Distribution for Edouard Vuillard, Year 1904"
             }
            ],
            "label": "Edouard Vuillard",
            "method": "update"
           },
           {
            "args": [
             {
              "locations": [
               []
              ],
              "text": [
               []
              ],
              "z": [
               []
              ]
             },
             {
              "title": "Exhibition Distribution for Helen Whitfield, Year 1904"
             }
            ],
            "label": "Helen Whitfield",
            "method": "update"
           },
           {
            "args": [
             {
              "locations": [
               []
              ],
              "text": [
               []
              ],
              "z": [
               []
              ]
             },
             {
              "title": "Exhibition Distribution for Helena Blankstein, Year 1904"
             }
            ],
            "label": "Helena Blankstein",
            "method": "update"
           },
           {
            "args": [
             {
              "locations": [
               []
              ],
              "text": [
               []
              ],
              "z": [
               []
              ]
             },
             {
              "title": "Exhibition Distribution for Henri Matisse, Year 1904"
             }
            ],
            "label": "Henri Matisse",
            "method": "update"
           },
           {
            "args": [
             {
              "locations": [
               []
              ],
              "text": [
               []
              ],
              "z": [
               []
              ]
             },
             {
              "title": "Exhibition Distribution for Maurice Denis, Year 1904"
             }
            ],
            "label": "Maurice Denis",
            "method": "update"
           },
           {
            "args": [
             {
              "locations": [
               []
              ],
              "text": [
               []
              ],
              "z": [
               []
              ]
             },
             {
              "title": "Exhibition Distribution for Pierre Bonnard, Year 1904"
             }
            ],
            "label": "Pierre Bonnard",
            "method": "update"
           },
           {
            "args": [
             {
              "locations": [
               [
                "DEU"
               ]
              ],
              "text": [
               [
                "DE"
               ]
              ],
              "z": [
               [
                0.6931471805599453
               ]
              ]
             },
             {
              "title": "Exhibition Distribution for Pierre-Auguste Renoir, Year 1904"
             }
            ],
            "label": "Pierre-Auguste Renoir",
            "method": "update"
           },
           {
            "args": [
             {
              "locations": [
               []
              ],
              "text": [
               []
              ],
              "z": [
               []
              ]
             },
             {
              "title": "Exhibition Distribution for Émile Norman Saint-Marcel, Year 1904"
             }
            ],
            "label": "Émile Norman Saint-Marcel",
            "method": "update"
           },
           {
            "args": [
             {
              "locations": [
               []
              ],
              "text": [
               []
              ],
              "z": [
               []
              ]
             },
             {
              "title": "Exhibition Distribution for Émile Pierre Metzmacher, Year 1904"
             }
            ],
            "label": "Émile Pierre Metzmacher",
            "method": "update"
           },
           {
            "args": [
             {
              "locations": [
               []
              ],
              "text": [
               []
              ],
              "z": [
               []
              ]
             },
             {
              "title": "Exhibition Distribution for Émile Raulin, Year 1904"
             }
            ],
            "label": "Émile Raulin",
            "method": "update"
           }
          ],
          "direction": "down",
          "showactive": true,
          "x": 0.015,
          "xanchor": "left",
          "y": 1,
          "yanchor": "top"
         }
        ]
       }
      }
     },
     "metadata": {},
     "output_type": "display_data"
    }
   ],
   "source": [
    "# Log transformation for exhibitions\n",
    "filtered_df['log_num_exhibitions'] = np.log1p(filtered_df['num_exhibitions'])\n",
    "\n",
    "# Función para actualizar los datos según artista y año\n",
    "def get_artist_year_data(artist, year):\n",
    "    \"\"\"Filtra el DataFrame por artista y año y devuelve los datos.\"\"\"\n",
    "    data = filtered_df[(filtered_df['artist_name'] == artist) & (filtered_df['e.startdate'] == year)]\n",
    "    return dict(\n",
    "        locations=data['e.country_3'],\n",
    "        z=data['log_num_exhibitions'],\n",
    "        text=data['e.country'],\n",
    "    )\n",
    "\n",
    "# Obtener artistas y años únicos\n",
    "artists = filtered_df['artist_name'].unique()\n",
    "years = sorted(filtered_df['e.startdate'].unique())\n",
    "\n",
    "# Inicializar figura\n",
    "fig = go.Figure()\n",
    "\n",
    "# Trazas iniciales: primer artista y primer año\n",
    "initial_artist = artists[0]\n",
    "initial_year = years[0]\n",
    "initial_data = get_artist_year_data(initial_artist, initial_year)\n",
    "fig.add_trace(go.Choropleth(\n",
    "    locations=initial_data['locations'],\n",
    "    z=initial_data['z'],\n",
    "    text=initial_data['text'],\n",
    "    colorscale=\"Plasma\",\n",
    "    zmin=0,\n",
    "    zmax=filtered_df['log_num_exhibitions'].max(),\n",
    "    marker_line_color='white',\n",
    "    marker_line_width=0.5\n",
    "))\n",
    "\n",
    "# Dropdown para seleccionar artistas\n",
    "artist_buttons = []\n",
    "for artist in artists:\n",
    "    artist_buttons.append(dict(\n",
    "        label=artist,\n",
    "        method=\"update\",\n",
    "        args=[\n",
    "            {\"z\": [get_artist_year_data(artist, initial_year)['z']],\n",
    "             \"locations\": [get_artist_year_data(artist, initial_year)['locations']],\n",
    "             \"text\": [get_artist_year_data(artist, initial_year)['text']]},\n",
    "            {\"title\": f\"Exhibition Distribution for {artist}, Year {initial_year}\"}\n",
    "        ]\n",
    "    ))\n",
    "\n",
    "# Slider para actualizar el año\n",
    "steps = []\n",
    "for year in years:\n",
    "    step = dict(\n",
    "        method=\"update\",\n",
    "        args=[\n",
    "            {\"z\": [get_artist_year_data(initial_artist, year)['z']],\n",
    "             \"locations\": [get_artist_year_data(initial_artist, year)['locations']],\n",
    "             \"text\": [get_artist_year_data(initial_artist, year)['text']]},\n",
    "            {\"title\": f\"Exhibition Distribution for {initial_artist}, Year {year}\"}\n",
    "        ],\n",
    "        label=str(year)\n",
    "    )\n",
    "    steps.append(step)\n",
    "\n",
    "# Configurar layout\n",
    "fig.update_layout(\n",
    "    title=f\"Exhibition Distribution for {initial_artist}, Year {initial_year}\",\n",
    "    updatemenus=[{\n",
    "        \"buttons\": artist_buttons,\n",
    "        \"direction\": \"down\",\n",
    "        \"showactive\": True,\n",
    "        \"x\": 0.015,\n",
    "        \"xanchor\": \"left\",\n",
    "        \"y\": 1,\n",
    "        \"yanchor\": \"top\"\n",
    "    }],\n",
    "    sliders=[{\n",
    "        \"active\": 0,\n",
    "        \"steps\": steps,\n",
    "        \"x\": 0.015,\n",
    "        \"len\": 0.9,\n",
    "        \"currentvalue\": {\"prefix\": \"Year: \"}\n",
    "    }],\n",
    "    geo=dict(\n",
    "        projection_type=\"natural earth\",\n",
    "        showland=True, landcolor=\"lightgray\",\n",
    "        showcoastlines=True, coastlinecolor=\"Black\"\n",
    "    ),\n",
    "    coloraxis_colorbar=dict(title=\"Exhibitions (Log Scale)\")\n",
    ")\n",
    "\n",
    "# Mostrar y guardar\n",
    "fig.write_html(\"interactive_artist_year_filtered.html\")\n",
    "fig.show()"
   ]
  }
 ],
 "metadata": {
  "kernelspec": {
   "display_name": "Python 3",
   "language": "python",
   "name": "python3"
  },
  "language_info": {
   "codemirror_mode": {
    "name": "ipython",
    "version": 3
   },
   "file_extension": ".py",
   "mimetype": "text/x-python",
   "name": "python",
   "nbconvert_exporter": "python",
   "pygments_lexer": "ipython3",
   "version": "3.11.9"
  }
 },
 "nbformat": 4,
 "nbformat_minor": 2
}
