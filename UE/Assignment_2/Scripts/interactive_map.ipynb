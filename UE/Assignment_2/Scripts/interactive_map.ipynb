{
 "cells": [
  {
   "cell_type": "code",
   "execution_count": 4,
   "metadata": {},
   "outputs": [],
   "source": [
    "import numpy as np\n",
    "import pandas as pd\n",
    "import os\n",
    "import matplotlib.pyplot as plt\n",
    "import seaborn as sns\n",
    "import scipy.stats as stats\n",
    "import matplotlib.gridspec as gridspec\n",
    "from scipy.io import arff\n",
    "from sklearn.preprocessing import LabelEncoder"
   ]
  },
  {
   "cell_type": "code",
   "execution_count": 5,
   "metadata": {},
   "outputs": [
    {
     "data": {
      "text/html": [
       "<div>\n",
       "<style scoped>\n",
       "    .dataframe tbody tr th:only-of-type {\n",
       "        vertical-align: middle;\n",
       "    }\n",
       "\n",
       "    .dataframe tbody tr th {\n",
       "        vertical-align: top;\n",
       "    }\n",
       "\n",
       "    .dataframe thead th {\n",
       "        text-align: right;\n",
       "    }\n",
       "</style>\n",
       "<table border=\"1\" class=\"dataframe\">\n",
       "  <thead>\n",
       "    <tr style=\"text-align: right;\">\n",
       "      <th></th>\n",
       "      <th>e.country_3</th>\n",
       "      <th>e.startdate</th>\n",
       "      <th>num_exhibitions</th>\n",
       "    </tr>\n",
       "  </thead>\n",
       "  <tbody>\n",
       "    <tr>\n",
       "      <th>0</th>\n",
       "      <td>AUT</td>\n",
       "      <td>1904</td>\n",
       "      <td>2</td>\n",
       "    </tr>\n",
       "    <tr>\n",
       "      <th>1</th>\n",
       "      <td>AUT</td>\n",
       "      <td>1905</td>\n",
       "      <td>294</td>\n",
       "    </tr>\n",
       "    <tr>\n",
       "      <th>2</th>\n",
       "      <td>AUT</td>\n",
       "      <td>1906</td>\n",
       "      <td>488</td>\n",
       "    </tr>\n",
       "    <tr>\n",
       "      <th>3</th>\n",
       "      <td>AUT</td>\n",
       "      <td>1907</td>\n",
       "      <td>349</td>\n",
       "    </tr>\n",
       "    <tr>\n",
       "      <th>4</th>\n",
       "      <td>AUT</td>\n",
       "      <td>1908</td>\n",
       "      <td>605</td>\n",
       "    </tr>\n",
       "  </tbody>\n",
       "</table>\n",
       "</div>"
      ],
      "text/plain": [
       "  e.country_3  e.startdate  num_exhibitions\n",
       "0         AUT         1904                2\n",
       "1         AUT         1905              294\n",
       "2         AUT         1906              488\n",
       "3         AUT         1907              349\n",
       "4         AUT         1908              605"
      ]
     },
     "metadata": {},
     "output_type": "display_data"
    }
   ],
   "source": [
    "artists_path = os.path.join('D:\\\\', 'artists')\n",
    "original_datasets_path = os.path.abspath(artists_path)\n",
    "\n",
    "# Load data\n",
    "def load_data(artists_datasets_path: str):\n",
    "    artist_data = pd.read_csv(artists_datasets_path, delimiter=\",\")  # Intenta también con \"\\t\"\n",
    "    return artist_data\n",
    "\n",
    "\n",
    "# Load data \n",
    "artists_datasets_path = os.path.join(artists_path, 'result_df_unique_reset_year.csv')\n",
    "result_df_unique_reset_year = load_data(artists_datasets_path)\n",
    "\n",
    "# Show first records and DataFrame information\n",
    "display(result_df_unique_reset_year.head())\n"
   ]
  },
  {
   "cell_type": "code",
   "execution_count": 6,
   "metadata": {},
   "outputs": [
    {
     "data": {
      "application/vnd.plotly.v1+json": {
       "config": {
        "plotlyServerURL": "https://plot.ly"
       },
       "data": [
        {
         "coloraxis": "coloraxis",
         "customdata": [
          [
           1.0986122886681098,
           2,
           1904
          ],
          [
           2.302585092994046,
           9,
           1904
          ],
          [
           2.302585092994046,
           9,
           1904
          ]
         ],
         "geo": "geo",
         "hovertemplate": "<b>%{hovertext}</b><br><br>e.startdate=%{customdata[2]}<br>e.country_3=%{location}<br>num_exhibitions=%{customdata[1]}<extra></extra>",
         "hovertext": [
          "AUT",
          "DEU",
          "FRA"
         ],
         "locations": [
          "AUT",
          "DEU",
          "FRA"
         ],
         "name": "",
         "type": "choropleth",
         "z": [
          1.0986122886681098,
          2.302585092994046,
          2.302585092994046
         ]
        }
       ],
       "frames": [
        {
         "data": [
          {
           "coloraxis": "coloraxis",
           "customdata": [
            [
             1.0986122886681098,
             2,
             1904
            ],
            [
             2.302585092994046,
             9,
             1904
            ],
            [
             2.302585092994046,
             9,
             1904
            ]
           ],
           "geo": "geo",
           "hovertemplate": "<b>%{hovertext}</b><br><br>e.startdate=%{customdata[2]}<br>e.country_3=%{location}<br>num_exhibitions=%{customdata[1]}<extra></extra>",
           "hovertext": [
            "AUT",
            "DEU",
            "FRA"
           ],
           "locations": [
            "AUT",
            "DEU",
            "FRA"
           ],
           "name": "",
           "type": "choropleth",
           "z": [
            1.0986122886681098,
            2.302585092994046,
            2.302585092994046
           ]
          }
         ],
         "name": "1904"
        },
        {
         "data": [
          {
           "coloraxis": "coloraxis",
           "customdata": [
            [
             5.68697535633982,
             294,
             1905
            ],
            [
             5.056245805348308,
             156,
             1905
            ],
            [
             5.424950017481403,
             226,
             1905
            ],
            [
             8.339023005744759,
             4183,
             1905
            ],
            [
             7.025538314638521,
             1124,
             1905
            ],
            [
             5.5254529391317835,
             250,
             1905
            ],
            [
             6.154858094016418,
             470,
             1905
            ],
            [
             6.675823221634848,
             792,
             1905
            ],
            [
             6.476972362889683,
             649,
             1905
            ],
            [
             4.5217885770490405,
             91,
             1905
            ],
            [
             5.602118820879701,
             270,
             1905
            ]
           ],
           "geo": "geo",
           "hovertemplate": "<b>%{hovertext}</b><br><br>e.startdate=%{customdata[2]}<br>e.country_3=%{location}<br>num_exhibitions=%{customdata[1]}<extra></extra>",
           "hovertext": [
            "AUT",
            "BEL",
            "CZE",
            "DEU",
            "FRA",
            "GBR",
            "HUN",
            "ITA",
            "NLD",
            "RUS",
            "USA"
           ],
           "locations": [
            "AUT",
            "BEL",
            "CZE",
            "DEU",
            "FRA",
            "GBR",
            "HUN",
            "ITA",
            "NLD",
            "RUS",
            "USA"
           ],
           "name": "",
           "type": "choropleth",
           "z": [
            5.68697535633982,
            5.056245805348308,
            5.424950017481403,
            8.339023005744759,
            7.025538314638521,
            5.5254529391317835,
            6.154858094016418,
            6.675823221634848,
            6.476972362889683,
            4.5217885770490405,
            5.602118820879701
           ]
          }
         ],
         "name": "1905"
        },
        {
         "data": [
          {
           "coloraxis": "coloraxis",
           "customdata": [
            [
             6.192362489474872,
             488,
             1906
            ],
            [
             4.007333185232471,
             54,
             1906
            ],
            [
             5.313205979041787,
             202,
             1906
            ],
            [
             4.418840607796598,
             82,
             1906
            ],
            [
             7.848543482456679,
             2561,
             1906
            ],
            [
             6.930494765951626,
             1022,
             1906
            ],
            [
             6.269096283706261,
             527,
             1906
            ],
            [
             6.699500340161678,
             811,
             1906
            ],
            [
             6.559615237493242,
             705,
             1906
            ],
            [
             1.3862943611198906,
             3,
             1906
            ],
            [
             5.135798437050262,
             169,
             1906
            ],
            [
             1.0986122886681098,
             2,
             1906
            ]
           ],
           "geo": "geo",
           "hovertemplate": "<b>%{hovertext}</b><br><br>e.startdate=%{customdata[2]}<br>e.country_3=%{location}<br>num_exhibitions=%{customdata[1]}<extra></extra>",
           "hovertext": [
            "AUT",
            "BEL",
            "CHE",
            "CZE",
            "DEU",
            "FRA",
            "GBR",
            "HUN",
            "ITA",
            "NLD",
            "RUS",
            "USA"
           ],
           "locations": [
            "AUT",
            "BEL",
            "CHE",
            "CZE",
            "DEU",
            "FRA",
            "GBR",
            "HUN",
            "ITA",
            "NLD",
            "RUS",
            "USA"
           ],
           "name": "",
           "type": "choropleth",
           "z": [
            6.192362489474872,
            4.007333185232471,
            5.313205979041787,
            4.418840607796598,
            7.848543482456679,
            6.930494765951626,
            6.269096283706261,
            6.699500340161678,
            6.559615237493242,
            1.3862943611198906,
            5.135798437050262,
            1.0986122886681098
           ]
          }
         ],
         "name": "1906"
        },
        {
         "data": [
          {
           "coloraxis": "coloraxis",
           "customdata": [
            [
             5.857933154483459,
             349,
             1907
            ],
            [
             5.081404364984463,
             160,
             1907
            ],
            [
             5.030437921392435,
             152,
             1907
            ],
            [
             7.273092595999522,
             1440,
             1907
            ],
            [
             6.85751406254539,
             950,
             1907
            ],
            [
             5.733341276897746,
             308,
             1907
            ],
            [
             6.0014148779611505,
             403,
             1907
            ],
            [
             6.866933284461882,
             959,
             1907
            ],
            [
             7.02108396428914,
             1119,
             1907
            ],
            [
             5.356586274672012,
             211,
             1907
            ]
           ],
           "geo": "geo",
           "hovertemplate": "<b>%{hovertext}</b><br><br>e.startdate=%{customdata[2]}<br>e.country_3=%{location}<br>num_exhibitions=%{customdata[1]}<extra></extra>",
           "hovertext": [
            "AUT",
            "BEL",
            "CZE",
            "DEU",
            "FRA",
            "GBR",
            "HUN",
            "ITA",
            "NLD",
            "RUS"
           ],
           "locations": [
            "AUT",
            "BEL",
            "CZE",
            "DEU",
            "FRA",
            "GBR",
            "HUN",
            "ITA",
            "NLD",
            "RUS"
           ],
           "name": "",
           "type": "choropleth",
           "z": [
            5.857933154483459,
            5.081404364984463,
            5.030437921392435,
            7.273092595999522,
            6.85751406254539,
            5.733341276897746,
            6.0014148779611505,
            6.866933284461882,
            7.02108396428914,
            5.356586274672012
           ]
          }
         ],
         "name": "1907"
        },
        {
         "data": [
          {
           "coloraxis": "coloraxis",
           "customdata": [
            [
             6.406879986069314,
             605,
             1908
            ],
            [
             6.448889394146858,
             631,
             1908
            ],
            [
             4.709530201312334,
             110,
             1908
            ],
            [
             5.0689042022202315,
             158,
             1908
            ],
            [
             7.237778191923443,
             1390,
             1908
            ],
            [
             6.29156913955832,
             539,
             1908
            ],
            [
             7.501082124259871,
             1809,
             1908
            ],
            [
             6.093569770045136,
             442,
             1908
            ],
            [
             5.579729825986222,
             264,
             1908
            ],
            [
             5.981414211254481,
             395,
             1908
            ],
            [
             3.6888794541139363,
             39,
             1908
            ],
            [
             5.652489180268651,
             284,
             1908
            ],
            [
             2.995732273553991,
             19,
             1908
            ],
            [
             2.302585092994046,
             9,
             1908
            ]
           ],
           "geo": "geo",
           "hovertemplate": "<b>%{hovertext}</b><br><br>e.startdate=%{customdata[2]}<br>e.country_3=%{location}<br>num_exhibitions=%{customdata[1]}<extra></extra>",
           "hovertext": [
            "AUT",
            "BEL",
            "CHE",
            "CZE",
            "DEU",
            "FRA",
            "GBR",
            "HUN",
            "ITA",
            "NLD",
            "POL",
            "RUS",
            "UKR",
            "USA"
           ],
           "locations": [
            "AUT",
            "BEL",
            "CHE",
            "CZE",
            "DEU",
            "FRA",
            "GBR",
            "HUN",
            "ITA",
            "NLD",
            "POL",
            "RUS",
            "UKR",
            "USA"
           ],
           "name": "",
           "type": "choropleth",
           "z": [
            6.406879986069314,
            6.448889394146858,
            4.709530201312334,
            5.0689042022202315,
            7.237778191923443,
            6.29156913955832,
            7.501082124259871,
            6.093569770045136,
            5.579729825986222,
            5.981414211254481,
            3.6888794541139363,
            5.652489180268651,
            2.995732273553991,
            2.302585092994046
           ]
          }
         ],
         "name": "1908"
        },
        {
         "data": [
          {
           "coloraxis": "coloraxis",
           "customdata": [
            [
             6.236369590203704,
             510,
             1909
            ],
            [
             5.389071729816501,
             218,
             1909
            ],
            [
             2.772588722239781,
             15,
             1909
            ],
            [
             5.220355825078324,
             184,
             1909
            ],
            [
             7.07326971745971,
             1179,
             1909
            ],
            [
             4.948759890378168,
             140,
             1909
            ],
            [
             7.116394144093465,
             1231,
             1909
            ],
            [
             6.620073206530356,
             749,
             1909
            ],
            [
             6.827629234502852,
             922,
             1909
            ],
            [
             2.8903717578961645,
             17,
             1909
            ],
            [
             7.179307969504034,
             1311,
             1909
            ],
            [
             5.598421958998375,
             269,
             1909
            ],
            [
             3.367295829986474,
             28,
             1909
            ],
            [
             5.517452896464707,
             248,
             1909
            ],
            [
             4.465908118654584,
             86,
             1909
            ],
            [
             4.8283137373023015,
             124,
             1909
            ]
           ],
           "geo": "geo",
           "hovertemplate": "<b>%{hovertext}</b><br><br>e.startdate=%{customdata[2]}<br>e.country_3=%{location}<br>num_exhibitions=%{customdata[1]}<extra></extra>",
           "hovertext": [
            "AUT",
            "BEL",
            "CHE",
            "CZE",
            "DEU",
            "FRA",
            "GBR",
            "HUN",
            "ITA",
            "LTU",
            "NLD",
            "RUS",
            "SWE",
            "UKR",
            "USA",
            "Unknown"
           ],
           "locations": [
            "AUT",
            "BEL",
            "CHE",
            "CZE",
            "DEU",
            "FRA",
            "GBR",
            "HUN",
            "ITA",
            "LTU",
            "NLD",
            "RUS",
            "SWE",
            "UKR",
            "USA",
            "Unknown"
           ],
           "name": "",
           "type": "choropleth",
           "z": [
            6.236369590203704,
            5.389071729816501,
            2.772588722239781,
            5.220355825078324,
            7.07326971745971,
            4.948759890378168,
            7.116394144093465,
            6.620073206530356,
            6.827629234502852,
            2.8903717578961645,
            7.179307969504034,
            5.598421958998375,
            3.367295829986474,
            5.517452896464707,
            4.465908118654584,
            4.8283137373023015
           ]
          }
         ],
         "name": "1909"
        },
        {
         "data": [
          {
           "coloraxis": "coloraxis",
           "customdata": [
            [
             6.75343791859778,
             856,
             1910
            ],
            [
             5.1647859739235145,
             174,
             1910
            ],
            [
             5.5053315359323625,
             245,
             1910
            ],
            [
             7.4489161025442,
             1717,
             1910
            ],
            [
             5.8998973535824915,
             364,
             1910
            ],
            [
             6.416732282512326,
             611,
             1910
            ],
            [
             6.089044875446846,
             440,
             1910
            ],
            [
             6.90975328164481,
             1001,
             1910
            ],
            [
             6.2285110035911835,
             506,
             1910
            ],
            [
             6.126869184114185,
             457,
             1910
            ],
            [
             3.828641396489095,
             45,
             1910
            ],
            [
             6.340359303727752,
             566,
             1910
            ],
            [
             5.313205979041787,
             202,
             1910
            ],
            [
             5.676753802268282,
             291,
             1910
            ]
           ],
           "geo": "geo",
           "hovertemplate": "<b>%{hovertext}</b><br><br>e.startdate=%{customdata[2]}<br>e.country_3=%{location}<br>num_exhibitions=%{customdata[1]}<extra></extra>",
           "hovertext": [
            "AUT",
            "BEL",
            "CZE",
            "DEU",
            "FRA",
            "GBR",
            "HUN",
            "ITA",
            "NLD",
            "RUS",
            "SWE",
            "UKR",
            "USA",
            "Unknown"
           ],
           "locations": [
            "AUT",
            "BEL",
            "CZE",
            "DEU",
            "FRA",
            "GBR",
            "HUN",
            "ITA",
            "NLD",
            "RUS",
            "SWE",
            "UKR",
            "USA",
            "Unknown"
           ],
           "name": "",
           "type": "choropleth",
           "z": [
            6.75343791859778,
            5.1647859739235145,
            5.5053315359323625,
            7.4489161025442,
            5.8998973535824915,
            6.416732282512326,
            6.089044875446846,
            6.90975328164481,
            6.2285110035911835,
            6.126869184114185,
            3.828641396489095,
            6.340359303727752,
            5.313205979041787,
            5.676753802268282
           ]
          }
         ],
         "name": "1910"
        },
        {
         "data": [
          {
           "coloraxis": "coloraxis",
           "customdata": [
            [
             5.820082930352362,
             336,
             1911
            ],
            [
             4.990432586778736,
             146,
             1911
            ],
            [
             4.867534450455582,
             129,
             1911
            ],
            [
             4.430816798843313,
             83,
             1911
            ],
            [
             7.305188215393037,
             1487,
             1911
            ],
            [
             6.444131256700441,
             628,
             1911
            ],
            [
             7.207118856207756,
             1348,
             1911
            ],
            [
             4.804021044733257,
             121,
             1911
            ],
            [
             6.2422232654551655,
             513,
             1911
            ],
            [
             5.638354669333745,
             280,
             1911
            ],
            [
             6.035481432524756,
             417,
             1911
            ],
            [
             4.02535169073515,
             55,
             1911
            ],
            [
             5.488937726156687,
             241,
             1911
            ],
            [
             1.0986122886681098,
             2,
             1911
            ]
           ],
           "geo": "geo",
           "hovertemplate": "<b>%{hovertext}</b><br><br>e.startdate=%{customdata[2]}<br>e.country_3=%{location}<br>num_exhibitions=%{customdata[1]}<extra></extra>",
           "hovertext": [
            "AUT",
            "BEL",
            "CHE",
            "CZE",
            "DEU",
            "FRA",
            "GBR",
            "HUN",
            "NLD",
            "RUS",
            "SWE",
            "UKR",
            "USA",
            "Unknown"
           ],
           "locations": [
            "AUT",
            "BEL",
            "CHE",
            "CZE",
            "DEU",
            "FRA",
            "GBR",
            "HUN",
            "NLD",
            "RUS",
            "SWE",
            "UKR",
            "USA",
            "Unknown"
           ],
           "name": "",
           "type": "choropleth",
           "z": [
            5.820082930352362,
            4.990432586778736,
            4.867534450455582,
            4.430816798843313,
            7.305188215393037,
            6.444131256700441,
            7.207118856207756,
            4.804021044733257,
            6.2422232654551655,
            5.638354669333745,
            6.035481432524756,
            4.02535169073515,
            5.488937726156687,
            1.0986122886681098
           ]
          }
         ],
         "name": "1911"
        },
        {
         "data": [
          {
           "coloraxis": "coloraxis",
           "customdata": [
            [
             5.968707559985366,
             390,
             1912
            ],
            [
             4.990432586778736,
             146,
             1912
            ],
            [
             3.8066624897703196,
             44,
             1912
            ],
            [
             6.248042874508429,
             516,
             1912
            ],
            [
             7.669961995473577,
             2142,
             1912
            ],
            [
             2.1972245773362196,
             8,
             1912
            ],
            [
             7.109062135687172,
             1222,
             1912
            ],
            [
             6.07073772800249,
             432,
             1912
            ],
            [
             4.882801922586371,
             131,
             1912
            ],
            [
             6.703188113240863,
             814,
             1912
            ],
            [
             7.044905117129371,
             1146,
             1912
            ],
            [
             0.6931471805599453,
             1,
             1912
            ],
            [
             5.918893854273146,
             371,
             1912
            ],
            [
             5.921578419643816,
             372,
             1912
            ],
            [
             1.791759469228055,
             5,
             1912
            ]
           ],
           "geo": "geo",
           "hovertemplate": "<b>%{hovertext}</b><br><br>e.startdate=%{customdata[2]}<br>e.country_3=%{location}<br>num_exhibitions=%{customdata[1]}<extra></extra>",
           "hovertext": [
            "AUT",
            "BEL",
            "CHE",
            "CZE",
            "DEU",
            "ESP",
            "FRA",
            "GBR",
            "HUN",
            "ITA",
            "NLD",
            "POL",
            "RUS",
            "USA",
            "Unknown"
           ],
           "locations": [
            "AUT",
            "BEL",
            "CHE",
            "CZE",
            "DEU",
            "ESP",
            "FRA",
            "GBR",
            "HUN",
            "ITA",
            "NLD",
            "POL",
            "RUS",
            "USA",
            "Unknown"
           ],
           "name": "",
           "type": "choropleth",
           "z": [
            5.968707559985366,
            4.990432586778736,
            3.8066624897703196,
            6.248042874508429,
            7.669961995473577,
            2.1972245773362196,
            7.109062135687172,
            6.07073772800249,
            4.882801922586371,
            6.703188113240863,
            7.044905117129371,
            0.6931471805599453,
            5.918893854273146,
            5.921578419643816,
            1.791759469228055
           ]
          }
         ],
         "name": "1912"
        },
        {
         "data": [
          {
           "coloraxis": "coloraxis",
           "customdata": [
            [
             6.161207321695077,
             473,
             1913
            ],
            [
             6.818924065275521,
             914,
             1913
            ],
            [
             2.0794415416798357,
             7,
             1913
            ],
            [
             5.955837369464831,
             385,
             1913
            ],
            [
             7.865955413933502,
             2606,
             1913
            ],
            [
             5.204006687076795,
             181,
             1913
            ],
            [
             6.74993119378857,
             853,
             1913
            ],
            [
             6.07073772800249,
             432,
             1913
            ],
            [
             5.365976015021851,
             213,
             1913
            ],
            [
             4.605170185988092,
             99,
             1913
            ],
            [
             6.12029741895095,
             454,
             1913
            ],
            [
             1.0986122886681098,
             2,
             1913
            ],
            [
             3.58351893845611,
             35,
             1913
            ],
            [
             7.105786129481271,
             1218,
             1913
            ],
            [
             0.6931471805599453,
             1,
             1913
            ]
           ],
           "geo": "geo",
           "hovertemplate": "<b>%{hovertext}</b><br><br>e.startdate=%{customdata[2]}<br>e.country_3=%{location}<br>num_exhibitions=%{customdata[1]}<extra></extra>",
           "hovertext": [
            "AUT",
            "BEL",
            "CHE",
            "CZE",
            "DEU",
            "FRA",
            "GBR",
            "HUN",
            "ITA",
            "NLD",
            "RUS",
            "SWE",
            "UKR",
            "USA",
            "Unknown"
           ],
           "locations": [
            "AUT",
            "BEL",
            "CHE",
            "CZE",
            "DEU",
            "FRA",
            "GBR",
            "HUN",
            "ITA",
            "NLD",
            "RUS",
            "SWE",
            "UKR",
            "USA",
            "Unknown"
           ],
           "name": "",
           "type": "choropleth",
           "z": [
            6.161207321695077,
            6.818924065275521,
            2.0794415416798357,
            5.955837369464831,
            7.865955413933502,
            5.204006687076795,
            6.74993119378857,
            6.07073772800249,
            5.365976015021851,
            4.605170185988092,
            6.12029741895095,
            1.0986122886681098,
            3.58351893845611,
            7.105786129481271,
            0.6931471805599453
           ]
          }
         ],
         "name": "1913"
        },
        {
         "data": [
          {
           "coloraxis": "coloraxis",
           "customdata": [
            [
             5.75890177387728,
             316,
             1914
            ],
            [
             6.92461239604856,
             1016,
             1914
            ],
            [
             5.517452896464707,
             248,
             1914
            ],
            [
             7.208600337960199,
             1350,
             1914
            ],
            [
             5.19295685089021,
             179,
             1914
            ],
            [
             6.672032945461067,
             789,
             1914
            ],
            [
             4.477336814478207,
             87,
             1914
            ],
            [
             7.098375638590786,
             1209,
             1914
            ],
            [
             3.295836866004329,
             26,
             1914
            ],
            [
             6.848005274576363,
             941,
             1914
            ],
            [
             5.220355825078324,
             184,
             1914
            ],
            [
             5.602118820879701,
             270,
             1914
            ],
            [
             0.6931471805599453,
             1,
             1914
            ]
           ],
           "geo": "geo",
           "hovertemplate": "<b>%{hovertext}</b><br><br>e.startdate=%{customdata[2]}<br>e.country_3=%{location}<br>num_exhibitions=%{customdata[1]}<extra></extra>",
           "hovertext": [
            "AUT",
            "BEL",
            "CZE",
            "DEU",
            "FRA",
            "GBR",
            "HUN",
            "ITA",
            "JPN",
            "NLD",
            "RUS",
            "USA",
            "Unknown"
           ],
           "locations": [
            "AUT",
            "BEL",
            "CZE",
            "DEU",
            "FRA",
            "GBR",
            "HUN",
            "ITA",
            "JPN",
            "NLD",
            "RUS",
            "USA",
            "Unknown"
           ],
           "name": "",
           "type": "choropleth",
           "z": [
            5.75890177387728,
            6.92461239604856,
            5.517452896464707,
            7.208600337960199,
            5.19295685089021,
            6.672032945461067,
            4.477336814478207,
            7.098375638590786,
            3.295836866004329,
            6.848005274576363,
            5.220355825078324,
            5.602118820879701,
            0.6931471805599453
           ]
          }
         ],
         "name": "1914"
        },
        {
         "data": [
          {
           "coloraxis": "coloraxis",
           "customdata": [
            [
             5.030437921392435,
             152,
             1915
            ],
            [
             6.129050210060545,
             458,
             1915
            ],
            [
             6.29156913955832,
             539,
             1915
            ],
            [
             2.3978952727983707,
             10,
             1915
            ],
            [
             5.030437921392435,
             152,
             1915
            ],
            [
             2.302585092994046,
             9,
             1915
            ],
            [
             4.6443908991413725,
             103,
             1915
            ],
            [
             2.8903717578961645,
             17,
             1915
            ]
           ],
           "geo": "geo",
           "hovertemplate": "<b>%{hovertext}</b><br><br>e.startdate=%{customdata[2]}<br>e.country_3=%{location}<br>num_exhibitions=%{customdata[1]}<extra></extra>",
           "hovertext": [
            "AUT",
            "DEU",
            "GBR",
            "HUN",
            "ITA",
            "NLD",
            "RUS",
            "USA"
           ],
           "locations": [
            "AUT",
            "DEU",
            "GBR",
            "HUN",
            "ITA",
            "NLD",
            "RUS",
            "USA"
           ],
           "name": "",
           "type": "choropleth",
           "z": [
            5.030437921392435,
            6.129050210060545,
            6.29156913955832,
            2.3978952727983707,
            5.030437921392435,
            2.302585092994046,
            4.6443908991413725,
            2.8903717578961645
           ]
          }
         ],
         "name": "1915"
        },
        {
         "data": [
          {
           "coloraxis": "coloraxis",
           "customdata": [
            [
             1.3862943611198906,
             3,
             1902
            ]
           ],
           "geo": "geo",
           "hovertemplate": "<b>%{hovertext}</b><br><br>e.startdate=%{customdata[2]}<br>e.country_3=%{location}<br>num_exhibitions=%{customdata[1]}<extra></extra>",
           "hovertext": [
            "DEU"
           ],
           "locations": [
            "DEU"
           ],
           "name": "",
           "type": "choropleth",
           "z": [
            1.3862943611198906
           ]
          }
         ],
         "name": "1902"
        },
        {
         "data": [
          {
           "coloraxis": "coloraxis",
           "customdata": [
            [
             1.6094379124341003,
             4,
             1903
            ]
           ],
           "geo": "geo",
           "hovertemplate": "<b>%{hovertext}</b><br><br>e.startdate=%{customdata[2]}<br>e.country_3=%{location}<br>num_exhibitions=%{customdata[1]}<extra></extra>",
           "hovertext": [
            "DEU"
           ],
           "locations": [
            "DEU"
           ],
           "name": "",
           "type": "choropleth",
           "z": [
            1.6094379124341003
           ]
          }
         ],
         "name": "1903"
        },
        {
         "data": [
          {
           "coloraxis": "coloraxis",
           "customdata": [
            [
             2.70805020110221,
             14,
             1916
            ]
           ],
           "geo": "geo",
           "hovertemplate": "<b>%{hovertext}</b><br><br>e.startdate=%{customdata[2]}<br>e.country_3=%{location}<br>num_exhibitions=%{customdata[1]}<extra></extra>",
           "hovertext": [
            "RUS"
           ],
           "locations": [
            "RUS"
           ],
           "name": "",
           "type": "choropleth",
           "z": [
            2.70805020110221
           ]
          }
         ],
         "name": "1916"
        }
       ],
       "layout": {
        "coloraxis": {
         "cmax": 8.339023005744759,
         "cmin": 0.6931471805599453,
         "colorbar": {
          "title": {
           "text": "log_num_exhibitions"
          }
         },
         "colorscale": [
          [
           0,
           "#0d0887"
          ],
          [
           0.1111111111111111,
           "#46039f"
          ],
          [
           0.2222222222222222,
           "#7201a8"
          ],
          [
           0.3333333333333333,
           "#9c179e"
          ],
          [
           0.4444444444444444,
           "#bd3786"
          ],
          [
           0.5555555555555556,
           "#d8576b"
          ],
          [
           0.6666666666666666,
           "#ed7953"
          ],
          [
           0.7777777777777778,
           "#fb9f3a"
          ],
          [
           0.8888888888888888,
           "#fdca26"
          ],
          [
           1,
           "#f0f921"
          ]
         ]
        },
        "geo": {
         "center": {},
         "coastlinecolor": "Black",
         "domain": {
          "x": [
           0,
           1
          ],
          "y": [
           0,
           1
          ]
         },
         "landcolor": "lightgray",
         "projection": {
          "type": "natural earth"
         },
         "showcoastlines": true,
         "showland": true
        },
        "legend": {
         "tracegroupgap": 0
        },
        "sliders": [
         {
          "active": 0,
          "currentvalue": {
           "prefix": "e.startdate="
          },
          "len": 0.9,
          "pad": {
           "b": 10,
           "t": 60
          },
          "steps": [
           {
            "args": [
             [
              "1904"
             ],
             {
              "frame": {
               "duration": 0,
               "redraw": true
              },
              "fromcurrent": true,
              "mode": "immediate",
              "transition": {
               "duration": 0,
               "easing": "linear"
              }
             }
            ],
            "label": "1904",
            "method": "animate"
           },
           {
            "args": [
             [
              "1905"
             ],
             {
              "frame": {
               "duration": 0,
               "redraw": true
              },
              "fromcurrent": true,
              "mode": "immediate",
              "transition": {
               "duration": 0,
               "easing": "linear"
              }
             }
            ],
            "label": "1905",
            "method": "animate"
           },
           {
            "args": [
             [
              "1906"
             ],
             {
              "frame": {
               "duration": 0,
               "redraw": true
              },
              "fromcurrent": true,
              "mode": "immediate",
              "transition": {
               "duration": 0,
               "easing": "linear"
              }
             }
            ],
            "label": "1906",
            "method": "animate"
           },
           {
            "args": [
             [
              "1907"
             ],
             {
              "frame": {
               "duration": 0,
               "redraw": true
              },
              "fromcurrent": true,
              "mode": "immediate",
              "transition": {
               "duration": 0,
               "easing": "linear"
              }
             }
            ],
            "label": "1907",
            "method": "animate"
           },
           {
            "args": [
             [
              "1908"
             ],
             {
              "frame": {
               "duration": 0,
               "redraw": true
              },
              "fromcurrent": true,
              "mode": "immediate",
              "transition": {
               "duration": 0,
               "easing": "linear"
              }
             }
            ],
            "label": "1908",
            "method": "animate"
           },
           {
            "args": [
             [
              "1909"
             ],
             {
              "frame": {
               "duration": 0,
               "redraw": true
              },
              "fromcurrent": true,
              "mode": "immediate",
              "transition": {
               "duration": 0,
               "easing": "linear"
              }
             }
            ],
            "label": "1909",
            "method": "animate"
           },
           {
            "args": [
             [
              "1910"
             ],
             {
              "frame": {
               "duration": 0,
               "redraw": true
              },
              "fromcurrent": true,
              "mode": "immediate",
              "transition": {
               "duration": 0,
               "easing": "linear"
              }
             }
            ],
            "label": "1910",
            "method": "animate"
           },
           {
            "args": [
             [
              "1911"
             ],
             {
              "frame": {
               "duration": 0,
               "redraw": true
              },
              "fromcurrent": true,
              "mode": "immediate",
              "transition": {
               "duration": 0,
               "easing": "linear"
              }
             }
            ],
            "label": "1911",
            "method": "animate"
           },
           {
            "args": [
             [
              "1912"
             ],
             {
              "frame": {
               "duration": 0,
               "redraw": true
              },
              "fromcurrent": true,
              "mode": "immediate",
              "transition": {
               "duration": 0,
               "easing": "linear"
              }
             }
            ],
            "label": "1912",
            "method": "animate"
           },
           {
            "args": [
             [
              "1913"
             ],
             {
              "frame": {
               "duration": 0,
               "redraw": true
              },
              "fromcurrent": true,
              "mode": "immediate",
              "transition": {
               "duration": 0,
               "easing": "linear"
              }
             }
            ],
            "label": "1913",
            "method": "animate"
           },
           {
            "args": [
             [
              "1914"
             ],
             {
              "frame": {
               "duration": 0,
               "redraw": true
              },
              "fromcurrent": true,
              "mode": "immediate",
              "transition": {
               "duration": 0,
               "easing": "linear"
              }
             }
            ],
            "label": "1914",
            "method": "animate"
           },
           {
            "args": [
             [
              "1915"
             ],
             {
              "frame": {
               "duration": 0,
               "redraw": true
              },
              "fromcurrent": true,
              "mode": "immediate",
              "transition": {
               "duration": 0,
               "easing": "linear"
              }
             }
            ],
            "label": "1915",
            "method": "animate"
           },
           {
            "args": [
             [
              "1902"
             ],
             {
              "frame": {
               "duration": 0,
               "redraw": true
              },
              "fromcurrent": true,
              "mode": "immediate",
              "transition": {
               "duration": 0,
               "easing": "linear"
              }
             }
            ],
            "label": "1902",
            "method": "animate"
           },
           {
            "args": [
             [
              "1903"
             ],
             {
              "frame": {
               "duration": 0,
               "redraw": true
              },
              "fromcurrent": true,
              "mode": "immediate",
              "transition": {
               "duration": 0,
               "easing": "linear"
              }
             }
            ],
            "label": "1903",
            "method": "animate"
           },
           {
            "args": [
             [
              "1916"
             ],
             {
              "frame": {
               "duration": 0,
               "redraw": true
              },
              "fromcurrent": true,
              "mode": "immediate",
              "transition": {
               "duration": 0,
               "easing": "linear"
              }
             }
            ],
            "label": "1916",
            "method": "animate"
           }
          ],
          "x": 0.1,
          "xanchor": "left",
          "y": 0,
          "yanchor": "top"
         }
        ],
        "template": {
         "data": {
          "bar": [
           {
            "error_x": {
             "color": "#2a3f5f"
            },
            "error_y": {
             "color": "#2a3f5f"
            },
            "marker": {
             "line": {
              "color": "#E5ECF6",
              "width": 0.5
             },
             "pattern": {
              "fillmode": "overlay",
              "size": 10,
              "solidity": 0.2
             }
            },
            "type": "bar"
           }
          ],
          "barpolar": [
           {
            "marker": {
             "line": {
              "color": "#E5ECF6",
              "width": 0.5
             },
             "pattern": {
              "fillmode": "overlay",
              "size": 10,
              "solidity": 0.2
             }
            },
            "type": "barpolar"
           }
          ],
          "carpet": [
           {
            "aaxis": {
             "endlinecolor": "#2a3f5f",
             "gridcolor": "white",
             "linecolor": "white",
             "minorgridcolor": "white",
             "startlinecolor": "#2a3f5f"
            },
            "baxis": {
             "endlinecolor": "#2a3f5f",
             "gridcolor": "white",
             "linecolor": "white",
             "minorgridcolor": "white",
             "startlinecolor": "#2a3f5f"
            },
            "type": "carpet"
           }
          ],
          "choropleth": [
           {
            "colorbar": {
             "outlinewidth": 0,
             "ticks": ""
            },
            "type": "choropleth"
           }
          ],
          "contour": [
           {
            "colorbar": {
             "outlinewidth": 0,
             "ticks": ""
            },
            "colorscale": [
             [
              0,
              "#0d0887"
             ],
             [
              0.1111111111111111,
              "#46039f"
             ],
             [
              0.2222222222222222,
              "#7201a8"
             ],
             [
              0.3333333333333333,
              "#9c179e"
             ],
             [
              0.4444444444444444,
              "#bd3786"
             ],
             [
              0.5555555555555556,
              "#d8576b"
             ],
             [
              0.6666666666666666,
              "#ed7953"
             ],
             [
              0.7777777777777778,
              "#fb9f3a"
             ],
             [
              0.8888888888888888,
              "#fdca26"
             ],
             [
              1,
              "#f0f921"
             ]
            ],
            "type": "contour"
           }
          ],
          "contourcarpet": [
           {
            "colorbar": {
             "outlinewidth": 0,
             "ticks": ""
            },
            "type": "contourcarpet"
           }
          ],
          "heatmap": [
           {
            "colorbar": {
             "outlinewidth": 0,
             "ticks": ""
            },
            "colorscale": [
             [
              0,
              "#0d0887"
             ],
             [
              0.1111111111111111,
              "#46039f"
             ],
             [
              0.2222222222222222,
              "#7201a8"
             ],
             [
              0.3333333333333333,
              "#9c179e"
             ],
             [
              0.4444444444444444,
              "#bd3786"
             ],
             [
              0.5555555555555556,
              "#d8576b"
             ],
             [
              0.6666666666666666,
              "#ed7953"
             ],
             [
              0.7777777777777778,
              "#fb9f3a"
             ],
             [
              0.8888888888888888,
              "#fdca26"
             ],
             [
              1,
              "#f0f921"
             ]
            ],
            "type": "heatmap"
           }
          ],
          "heatmapgl": [
           {
            "colorbar": {
             "outlinewidth": 0,
             "ticks": ""
            },
            "colorscale": [
             [
              0,
              "#0d0887"
             ],
             [
              0.1111111111111111,
              "#46039f"
             ],
             [
              0.2222222222222222,
              "#7201a8"
             ],
             [
              0.3333333333333333,
              "#9c179e"
             ],
             [
              0.4444444444444444,
              "#bd3786"
             ],
             [
              0.5555555555555556,
              "#d8576b"
             ],
             [
              0.6666666666666666,
              "#ed7953"
             ],
             [
              0.7777777777777778,
              "#fb9f3a"
             ],
             [
              0.8888888888888888,
              "#fdca26"
             ],
             [
              1,
              "#f0f921"
             ]
            ],
            "type": "heatmapgl"
           }
          ],
          "histogram": [
           {
            "marker": {
             "pattern": {
              "fillmode": "overlay",
              "size": 10,
              "solidity": 0.2
             }
            },
            "type": "histogram"
           }
          ],
          "histogram2d": [
           {
            "colorbar": {
             "outlinewidth": 0,
             "ticks": ""
            },
            "colorscale": [
             [
              0,
              "#0d0887"
             ],
             [
              0.1111111111111111,
              "#46039f"
             ],
             [
              0.2222222222222222,
              "#7201a8"
             ],
             [
              0.3333333333333333,
              "#9c179e"
             ],
             [
              0.4444444444444444,
              "#bd3786"
             ],
             [
              0.5555555555555556,
              "#d8576b"
             ],
             [
              0.6666666666666666,
              "#ed7953"
             ],
             [
              0.7777777777777778,
              "#fb9f3a"
             ],
             [
              0.8888888888888888,
              "#fdca26"
             ],
             [
              1,
              "#f0f921"
             ]
            ],
            "type": "histogram2d"
           }
          ],
          "histogram2dcontour": [
           {
            "colorbar": {
             "outlinewidth": 0,
             "ticks": ""
            },
            "colorscale": [
             [
              0,
              "#0d0887"
             ],
             [
              0.1111111111111111,
              "#46039f"
             ],
             [
              0.2222222222222222,
              "#7201a8"
             ],
             [
              0.3333333333333333,
              "#9c179e"
             ],
             [
              0.4444444444444444,
              "#bd3786"
             ],
             [
              0.5555555555555556,
              "#d8576b"
             ],
             [
              0.6666666666666666,
              "#ed7953"
             ],
             [
              0.7777777777777778,
              "#fb9f3a"
             ],
             [
              0.8888888888888888,
              "#fdca26"
             ],
             [
              1,
              "#f0f921"
             ]
            ],
            "type": "histogram2dcontour"
           }
          ],
          "mesh3d": [
           {
            "colorbar": {
             "outlinewidth": 0,
             "ticks": ""
            },
            "type": "mesh3d"
           }
          ],
          "parcoords": [
           {
            "line": {
             "colorbar": {
              "outlinewidth": 0,
              "ticks": ""
             }
            },
            "type": "parcoords"
           }
          ],
          "pie": [
           {
            "automargin": true,
            "type": "pie"
           }
          ],
          "scatter": [
           {
            "fillpattern": {
             "fillmode": "overlay",
             "size": 10,
             "solidity": 0.2
            },
            "type": "scatter"
           }
          ],
          "scatter3d": [
           {
            "line": {
             "colorbar": {
              "outlinewidth": 0,
              "ticks": ""
             }
            },
            "marker": {
             "colorbar": {
              "outlinewidth": 0,
              "ticks": ""
             }
            },
            "type": "scatter3d"
           }
          ],
          "scattercarpet": [
           {
            "marker": {
             "colorbar": {
              "outlinewidth": 0,
              "ticks": ""
             }
            },
            "type": "scattercarpet"
           }
          ],
          "scattergeo": [
           {
            "marker": {
             "colorbar": {
              "outlinewidth": 0,
              "ticks": ""
             }
            },
            "type": "scattergeo"
           }
          ],
          "scattergl": [
           {
            "marker": {
             "colorbar": {
              "outlinewidth": 0,
              "ticks": ""
             }
            },
            "type": "scattergl"
           }
          ],
          "scattermapbox": [
           {
            "marker": {
             "colorbar": {
              "outlinewidth": 0,
              "ticks": ""
             }
            },
            "type": "scattermapbox"
           }
          ],
          "scatterpolar": [
           {
            "marker": {
             "colorbar": {
              "outlinewidth": 0,
              "ticks": ""
             }
            },
            "type": "scatterpolar"
           }
          ],
          "scatterpolargl": [
           {
            "marker": {
             "colorbar": {
              "outlinewidth": 0,
              "ticks": ""
             }
            },
            "type": "scatterpolargl"
           }
          ],
          "scatterternary": [
           {
            "marker": {
             "colorbar": {
              "outlinewidth": 0,
              "ticks": ""
             }
            },
            "type": "scatterternary"
           }
          ],
          "surface": [
           {
            "colorbar": {
             "outlinewidth": 0,
             "ticks": ""
            },
            "colorscale": [
             [
              0,
              "#0d0887"
             ],
             [
              0.1111111111111111,
              "#46039f"
             ],
             [
              0.2222222222222222,
              "#7201a8"
             ],
             [
              0.3333333333333333,
              "#9c179e"
             ],
             [
              0.4444444444444444,
              "#bd3786"
             ],
             [
              0.5555555555555556,
              "#d8576b"
             ],
             [
              0.6666666666666666,
              "#ed7953"
             ],
             [
              0.7777777777777778,
              "#fb9f3a"
             ],
             [
              0.8888888888888888,
              "#fdca26"
             ],
             [
              1,
              "#f0f921"
             ]
            ],
            "type": "surface"
           }
          ],
          "table": [
           {
            "cells": {
             "fill": {
              "color": "#EBF0F8"
             },
             "line": {
              "color": "white"
             }
            },
            "header": {
             "fill": {
              "color": "#C8D4E3"
             },
             "line": {
              "color": "white"
             }
            },
            "type": "table"
           }
          ]
         },
         "layout": {
          "annotationdefaults": {
           "arrowcolor": "#2a3f5f",
           "arrowhead": 0,
           "arrowwidth": 1
          },
          "autotypenumbers": "strict",
          "coloraxis": {
           "colorbar": {
            "outlinewidth": 0,
            "ticks": ""
           }
          },
          "colorscale": {
           "diverging": [
            [
             0,
             "#8e0152"
            ],
            [
             0.1,
             "#c51b7d"
            ],
            [
             0.2,
             "#de77ae"
            ],
            [
             0.3,
             "#f1b6da"
            ],
            [
             0.4,
             "#fde0ef"
            ],
            [
             0.5,
             "#f7f7f7"
            ],
            [
             0.6,
             "#e6f5d0"
            ],
            [
             0.7,
             "#b8e186"
            ],
            [
             0.8,
             "#7fbc41"
            ],
            [
             0.9,
             "#4d9221"
            ],
            [
             1,
             "#276419"
            ]
           ],
           "sequential": [
            [
             0,
             "#0d0887"
            ],
            [
             0.1111111111111111,
             "#46039f"
            ],
            [
             0.2222222222222222,
             "#7201a8"
            ],
            [
             0.3333333333333333,
             "#9c179e"
            ],
            [
             0.4444444444444444,
             "#bd3786"
            ],
            [
             0.5555555555555556,
             "#d8576b"
            ],
            [
             0.6666666666666666,
             "#ed7953"
            ],
            [
             0.7777777777777778,
             "#fb9f3a"
            ],
            [
             0.8888888888888888,
             "#fdca26"
            ],
            [
             1,
             "#f0f921"
            ]
           ],
           "sequentialminus": [
            [
             0,
             "#0d0887"
            ],
            [
             0.1111111111111111,
             "#46039f"
            ],
            [
             0.2222222222222222,
             "#7201a8"
            ],
            [
             0.3333333333333333,
             "#9c179e"
            ],
            [
             0.4444444444444444,
             "#bd3786"
            ],
            [
             0.5555555555555556,
             "#d8576b"
            ],
            [
             0.6666666666666666,
             "#ed7953"
            ],
            [
             0.7777777777777778,
             "#fb9f3a"
            ],
            [
             0.8888888888888888,
             "#fdca26"
            ],
            [
             1,
             "#f0f921"
            ]
           ]
          },
          "colorway": [
           "#636efa",
           "#EF553B",
           "#00cc96",
           "#ab63fa",
           "#FFA15A",
           "#19d3f3",
           "#FF6692",
           "#B6E880",
           "#FF97FF",
           "#FECB52"
          ],
          "font": {
           "color": "#2a3f5f"
          },
          "geo": {
           "bgcolor": "white",
           "lakecolor": "white",
           "landcolor": "#E5ECF6",
           "showlakes": true,
           "showland": true,
           "subunitcolor": "white"
          },
          "hoverlabel": {
           "align": "left"
          },
          "hovermode": "closest",
          "mapbox": {
           "style": "light"
          },
          "paper_bgcolor": "white",
          "plot_bgcolor": "#E5ECF6",
          "polar": {
           "angularaxis": {
            "gridcolor": "white",
            "linecolor": "white",
            "ticks": ""
           },
           "bgcolor": "#E5ECF6",
           "radialaxis": {
            "gridcolor": "white",
            "linecolor": "white",
            "ticks": ""
           }
          },
          "scene": {
           "xaxis": {
            "backgroundcolor": "#E5ECF6",
            "gridcolor": "white",
            "gridwidth": 2,
            "linecolor": "white",
            "showbackground": true,
            "ticks": "",
            "zerolinecolor": "white"
           },
           "yaxis": {
            "backgroundcolor": "#E5ECF6",
            "gridcolor": "white",
            "gridwidth": 2,
            "linecolor": "white",
            "showbackground": true,
            "ticks": "",
            "zerolinecolor": "white"
           },
           "zaxis": {
            "backgroundcolor": "#E5ECF6",
            "gridcolor": "white",
            "gridwidth": 2,
            "linecolor": "white",
            "showbackground": true,
            "ticks": "",
            "zerolinecolor": "white"
           }
          },
          "shapedefaults": {
           "line": {
            "color": "#2a3f5f"
           }
          },
          "ternary": {
           "aaxis": {
            "gridcolor": "white",
            "linecolor": "white",
            "ticks": ""
           },
           "baxis": {
            "gridcolor": "white",
            "linecolor": "white",
            "ticks": ""
           },
           "bgcolor": "#E5ECF6",
           "caxis": {
            "gridcolor": "white",
            "linecolor": "white",
            "ticks": ""
           }
          },
          "title": {
           "x": 0.05
          },
          "xaxis": {
           "automargin": true,
           "gridcolor": "white",
           "linecolor": "white",
           "ticks": "",
           "title": {
            "standoff": 15
           },
           "zerolinecolor": "white",
           "zerolinewidth": 2
          },
          "yaxis": {
           "automargin": true,
           "gridcolor": "white",
           "linecolor": "white",
           "ticks": "",
           "title": {
            "standoff": 15
           },
           "zerolinecolor": "white",
           "zerolinewidth": 2
          }
         }
        },
        "title": {
         "text": "Exhibition Distribution by Country and Year (Log Scale)",
         "x": 0.5
        },
        "updatemenus": [
         {
          "buttons": [
           {
            "args": [
             null,
             {
              "frame": {
               "duration": 500,
               "redraw": true
              },
              "fromcurrent": true,
              "mode": "immediate",
              "transition": {
               "duration": 500,
               "easing": "linear"
              }
             }
            ],
            "label": "&#9654;",
            "method": "animate"
           },
           {
            "args": [
             [
              null
             ],
             {
              "frame": {
               "duration": 0,
               "redraw": true
              },
              "fromcurrent": true,
              "mode": "immediate",
              "transition": {
               "duration": 0,
               "easing": "linear"
              }
             }
            ],
            "label": "&#9724;",
            "method": "animate"
           }
          ],
          "direction": "left",
          "pad": {
           "r": 10,
           "t": 70
          },
          "showactive": false,
          "type": "buttons",
          "x": 0.1,
          "xanchor": "right",
          "y": 0,
          "yanchor": "top"
         }
        ]
       }
      }
     },
     "metadata": {},
     "output_type": "display_data"
    }
   ],
   "source": [
    "import numpy as np\n",
    "import plotly.express as px\n",
    "\n",
    "\n",
    "# Agregar una columna transformada logarítmicamente\n",
    "result_df_unique_reset_year['log_num_exhibitions'] = np.log1p(result_df_unique_reset_year['num_exhibitions'])\n",
    "\n",
    "# Calcular el rango para la escala logarítmica\n",
    "log_color_min = result_df_unique_reset_year['log_num_exhibitions'].min()\n",
    "log_color_max = result_df_unique_reset_year['log_num_exhibitions'].max()\n",
    "\n",
    "# Crear el gráfico utilizando la columna transformada\n",
    "fig = px.choropleth(result_df_unique_reset_year, \n",
    "                    locations=\"e.country_3\",\n",
    "                    color=\"log_num_exhibitions\",  # Usar la columna logarítmica\n",
    "                    hover_name=\"e.country_3\",\n",
    "                    hover_data={\"log_num_exhibitions\": False,  # Ocultar valores logarítmicos en el hover\n",
    "                                \"num_exhibitions\": True,  # Mostrar valores originales\n",
    "                                \"e.startdate\": True},\n",
    "                    animation_frame=\"e.startdate\",\n",
    "                    color_continuous_scale=px.colors.sequential.Plasma,\n",
    "                    range_color=[log_color_min, log_color_max],  # Fijar el rango para la escala logarítmica\n",
    "                    projection=\"natural earth\",\n",
    "                    title=\"Exhibition Distribution by Country and Year (Log Scale)\"\n",
    ")\n",
    "\n",
    "# Personalizar el mapa\n",
    "fig.update_geos(showcoastlines=True, coastlinecolor=\"Black\", showland=True, landcolor=\"lightgray\")\n",
    "fig.update_layout(title_text=\"Exhibition Distribution by Country and Year (Log Scale)\", title_x=0.5)\n",
    "\n",
    "# Guardar y mostrar el gráfico\n",
    "fig.write_html(\"interactive_map_log_scale.html\")\n",
    "fig.show()\n",
    "\n"
   ]
  },
  {
   "cell_type": "code",
   "execution_count": 7,
   "metadata": {},
   "outputs": [
    {
     "data": {
      "application/vnd.plotly.v1+json": {
       "config": {
        "plotlyServerURL": "https://plot.ly"
       },
       "data": [
        {
         "coloraxis": "coloraxis",
         "customdata": [
          [
           1.0986122886681098,
           2,
           1904
          ],
          [
           2.302585092994046,
           9,
           1904
          ],
          [
           2.302585092994046,
           9,
           1904
          ]
         ],
         "geo": "geo",
         "hovertemplate": "<b>%{hovertext}</b><br><br>animation_frame_with_events=1904<br>e.country_3=%{location}<br>num_exhibitions=%{customdata[1]}<br>e.startdate=%{customdata[2]}<extra></extra>",
         "hovertext": [
          "AUT",
          "DEU",
          "FRA"
         ],
         "locations": [
          "AUT",
          "DEU",
          "FRA"
         ],
         "name": "",
         "type": "choropleth",
         "z": [
          1.0986122886681098,
          2.302585092994046,
          2.302585092994046
         ]
        }
       ],
       "frames": [
        {
         "data": [
          {
           "coloraxis": "coloraxis",
           "customdata": [
            [
             1.0986122886681098,
             2,
             1904
            ],
            [
             2.302585092994046,
             9,
             1904
            ],
            [
             2.302585092994046,
             9,
             1904
            ]
           ],
           "geo": "geo",
           "hovertemplate": "<b>%{hovertext}</b><br><br>animation_frame_with_events=1904<br>e.country_3=%{location}<br>num_exhibitions=%{customdata[1]}<br>e.startdate=%{customdata[2]}<extra></extra>",
           "hovertext": [
            "AUT",
            "DEU",
            "FRA"
           ],
           "locations": [
            "AUT",
            "DEU",
            "FRA"
           ],
           "name": "",
           "type": "choropleth",
           "z": [
            1.0986122886681098,
            2.302585092994046,
            2.302585092994046
           ]
          }
         ],
         "name": "1904"
        },
        {
         "data": [
          {
           "coloraxis": "coloraxis",
           "customdata": [
            [
             5.68697535633982,
             294,
             1905
            ],
            [
             5.056245805348308,
             156,
             1905
            ],
            [
             5.424950017481403,
             226,
             1905
            ],
            [
             8.339023005744759,
             4183,
             1905
            ],
            [
             7.025538314638521,
             1124,
             1905
            ],
            [
             5.5254529391317835,
             250,
             1905
            ],
            [
             6.154858094016418,
             470,
             1905
            ],
            [
             6.675823221634848,
             792,
             1905
            ],
            [
             6.476972362889683,
             649,
             1905
            ],
            [
             4.5217885770490405,
             91,
             1905
            ],
            [
             5.602118820879701,
             270,
             1905
            ]
           ],
           "geo": "geo",
           "hovertemplate": "<b>%{hovertext}</b><br><br>animation_frame_with_events=1905<br>e.country_3=%{location}<br>num_exhibitions=%{customdata[1]}<br>e.startdate=%{customdata[2]}<extra></extra>",
           "hovertext": [
            "AUT",
            "BEL",
            "CZE",
            "DEU",
            "FRA",
            "GBR",
            "HUN",
            "ITA",
            "NLD",
            "RUS",
            "USA"
           ],
           "locations": [
            "AUT",
            "BEL",
            "CZE",
            "DEU",
            "FRA",
            "GBR",
            "HUN",
            "ITA",
            "NLD",
            "RUS",
            "USA"
           ],
           "name": "",
           "type": "choropleth",
           "z": [
            5.68697535633982,
            5.056245805348308,
            5.424950017481403,
            8.339023005744759,
            7.025538314638521,
            5.5254529391317835,
            6.154858094016418,
            6.675823221634848,
            6.476972362889683,
            4.5217885770490405,
            5.602118820879701
           ]
          }
         ],
         "name": "1905"
        },
        {
         "data": [
          {
           "coloraxis": "coloraxis",
           "customdata": [
            [
             6.192362489474872,
             488,
             1906
            ],
            [
             4.007333185232471,
             54,
             1906
            ],
            [
             5.313205979041787,
             202,
             1906
            ],
            [
             4.418840607796598,
             82,
             1906
            ],
            [
             7.848543482456679,
             2561,
             1906
            ],
            [
             6.930494765951626,
             1022,
             1906
            ],
            [
             6.269096283706261,
             527,
             1906
            ],
            [
             6.699500340161678,
             811,
             1906
            ],
            [
             6.559615237493242,
             705,
             1906
            ],
            [
             1.3862943611198906,
             3,
             1906
            ],
            [
             5.135798437050262,
             169,
             1906
            ],
            [
             1.0986122886681098,
             2,
             1906
            ]
           ],
           "geo": "geo",
           "hovertemplate": "<b>%{hovertext}</b><br><br>animation_frame_with_events=1906<br>e.country_3=%{location}<br>num_exhibitions=%{customdata[1]}<br>e.startdate=%{customdata[2]}<extra></extra>",
           "hovertext": [
            "AUT",
            "BEL",
            "CHE",
            "CZE",
            "DEU",
            "FRA",
            "GBR",
            "HUN",
            "ITA",
            "NLD",
            "RUS",
            "USA"
           ],
           "locations": [
            "AUT",
            "BEL",
            "CHE",
            "CZE",
            "DEU",
            "FRA",
            "GBR",
            "HUN",
            "ITA",
            "NLD",
            "RUS",
            "USA"
           ],
           "name": "",
           "type": "choropleth",
           "z": [
            6.192362489474872,
            4.007333185232471,
            5.313205979041787,
            4.418840607796598,
            7.848543482456679,
            6.930494765951626,
            6.269096283706261,
            6.699500340161678,
            6.559615237493242,
            1.3862943611198906,
            5.135798437050262,
            1.0986122886681098
           ]
          }
         ],
         "name": "1906"
        },
        {
         "data": [
          {
           "coloraxis": "coloraxis",
           "customdata": [
            [
             5.857933154483459,
             349,
             1907
            ],
            [
             5.081404364984463,
             160,
             1907
            ],
            [
             5.030437921392435,
             152,
             1907
            ],
            [
             7.273092595999522,
             1440,
             1907
            ],
            [
             6.85751406254539,
             950,
             1907
            ],
            [
             5.733341276897746,
             308,
             1907
            ],
            [
             6.0014148779611505,
             403,
             1907
            ],
            [
             6.866933284461882,
             959,
             1907
            ],
            [
             7.02108396428914,
             1119,
             1907
            ],
            [
             5.356586274672012,
             211,
             1907
            ]
           ],
           "geo": "geo",
           "hovertemplate": "<b>%{hovertext}</b><br><br>animation_frame_with_events=1907<br>e.country_3=%{location}<br>num_exhibitions=%{customdata[1]}<br>e.startdate=%{customdata[2]}<extra></extra>",
           "hovertext": [
            "AUT",
            "BEL",
            "CZE",
            "DEU",
            "FRA",
            "GBR",
            "HUN",
            "ITA",
            "NLD",
            "RUS"
           ],
           "locations": [
            "AUT",
            "BEL",
            "CZE",
            "DEU",
            "FRA",
            "GBR",
            "HUN",
            "ITA",
            "NLD",
            "RUS"
           ],
           "name": "",
           "type": "choropleth",
           "z": [
            5.857933154483459,
            5.081404364984463,
            5.030437921392435,
            7.273092595999522,
            6.85751406254539,
            5.733341276897746,
            6.0014148779611505,
            6.866933284461882,
            7.02108396428914,
            5.356586274672012
           ]
          }
         ],
         "name": "1907"
        },
        {
         "data": [
          {
           "coloraxis": "coloraxis",
           "customdata": [
            [
             6.406879986069314,
             605,
             1908
            ],
            [
             6.448889394146858,
             631,
             1908
            ],
            [
             4.709530201312334,
             110,
             1908
            ],
            [
             5.0689042022202315,
             158,
             1908
            ],
            [
             7.237778191923443,
             1390,
             1908
            ],
            [
             6.29156913955832,
             539,
             1908
            ],
            [
             7.501082124259871,
             1809,
             1908
            ],
            [
             6.093569770045136,
             442,
             1908
            ],
            [
             5.579729825986222,
             264,
             1908
            ],
            [
             5.981414211254481,
             395,
             1908
            ],
            [
             3.6888794541139363,
             39,
             1908
            ],
            [
             5.652489180268651,
             284,
             1908
            ],
            [
             2.995732273553991,
             19,
             1908
            ],
            [
             2.302585092994046,
             9,
             1908
            ]
           ],
           "geo": "geo",
           "hovertemplate": "<b>%{hovertext}</b><br><br>animation_frame_with_events=1908<br>e.country_3=%{location}<br>num_exhibitions=%{customdata[1]}<br>e.startdate=%{customdata[2]}<extra></extra>",
           "hovertext": [
            "AUT",
            "BEL",
            "CHE",
            "CZE",
            "DEU",
            "FRA",
            "GBR",
            "HUN",
            "ITA",
            "NLD",
            "POL",
            "RUS",
            "UKR",
            "USA"
           ],
           "locations": [
            "AUT",
            "BEL",
            "CHE",
            "CZE",
            "DEU",
            "FRA",
            "GBR",
            "HUN",
            "ITA",
            "NLD",
            "POL",
            "RUS",
            "UKR",
            "USA"
           ],
           "name": "",
           "type": "choropleth",
           "z": [
            6.406879986069314,
            6.448889394146858,
            4.709530201312334,
            5.0689042022202315,
            7.237778191923443,
            6.29156913955832,
            7.501082124259871,
            6.093569770045136,
            5.579729825986222,
            5.981414211254481,
            3.6888794541139363,
            5.652489180268651,
            2.995732273553991,
            2.302585092994046
           ]
          }
         ],
         "name": "1908"
        },
        {
         "data": [
          {
           "coloraxis": "coloraxis",
           "customdata": [
            [
             6.236369590203704,
             510,
             1909
            ],
            [
             5.389071729816501,
             218,
             1909
            ],
            [
             2.772588722239781,
             15,
             1909
            ],
            [
             5.220355825078324,
             184,
             1909
            ],
            [
             7.07326971745971,
             1179,
             1909
            ],
            [
             4.948759890378168,
             140,
             1909
            ],
            [
             7.116394144093465,
             1231,
             1909
            ],
            [
             6.620073206530356,
             749,
             1909
            ],
            [
             6.827629234502852,
             922,
             1909
            ],
            [
             2.8903717578961645,
             17,
             1909
            ],
            [
             7.179307969504034,
             1311,
             1909
            ],
            [
             5.598421958998375,
             269,
             1909
            ],
            [
             3.367295829986474,
             28,
             1909
            ],
            [
             5.517452896464707,
             248,
             1909
            ],
            [
             4.465908118654584,
             86,
             1909
            ],
            [
             4.8283137373023015,
             124,
             1909
            ]
           ],
           "geo": "geo",
           "hovertemplate": "<b>%{hovertext}</b><br><br>animation_frame_with_events=1909<br>e.country_3=%{location}<br>num_exhibitions=%{customdata[1]}<br>e.startdate=%{customdata[2]}<extra></extra>",
           "hovertext": [
            "AUT",
            "BEL",
            "CHE",
            "CZE",
            "DEU",
            "FRA",
            "GBR",
            "HUN",
            "ITA",
            "LTU",
            "NLD",
            "RUS",
            "SWE",
            "UKR",
            "USA",
            "Unknown"
           ],
           "locations": [
            "AUT",
            "BEL",
            "CHE",
            "CZE",
            "DEU",
            "FRA",
            "GBR",
            "HUN",
            "ITA",
            "LTU",
            "NLD",
            "RUS",
            "SWE",
            "UKR",
            "USA",
            "Unknown"
           ],
           "name": "",
           "type": "choropleth",
           "z": [
            6.236369590203704,
            5.389071729816501,
            2.772588722239781,
            5.220355825078324,
            7.07326971745971,
            4.948759890378168,
            7.116394144093465,
            6.620073206530356,
            6.827629234502852,
            2.8903717578961645,
            7.179307969504034,
            5.598421958998375,
            3.367295829986474,
            5.517452896464707,
            4.465908118654584,
            4.8283137373023015
           ]
          }
         ],
         "name": "1909"
        },
        {
         "data": [
          {
           "coloraxis": "coloraxis",
           "customdata": [
            [
             6.75343791859778,
             856,
             1910
            ],
            [
             5.1647859739235145,
             174,
             1910
            ],
            [
             5.5053315359323625,
             245,
             1910
            ],
            [
             7.4489161025442,
             1717,
             1910
            ],
            [
             5.8998973535824915,
             364,
             1910
            ],
            [
             6.416732282512326,
             611,
             1910
            ],
            [
             6.089044875446846,
             440,
             1910
            ],
            [
             6.90975328164481,
             1001,
             1910
            ],
            [
             6.2285110035911835,
             506,
             1910
            ],
            [
             6.126869184114185,
             457,
             1910
            ],
            [
             3.828641396489095,
             45,
             1910
            ],
            [
             6.340359303727752,
             566,
             1910
            ],
            [
             5.313205979041787,
             202,
             1910
            ],
            [
             5.676753802268282,
             291,
             1910
            ]
           ],
           "geo": "geo",
           "hovertemplate": "<b>%{hovertext}</b><br><br>animation_frame_with_events=1910<br>e.country_3=%{location}<br>num_exhibitions=%{customdata[1]}<br>e.startdate=%{customdata[2]}<extra></extra>",
           "hovertext": [
            "AUT",
            "BEL",
            "CZE",
            "DEU",
            "FRA",
            "GBR",
            "HUN",
            "ITA",
            "NLD",
            "RUS",
            "SWE",
            "UKR",
            "USA",
            "Unknown"
           ],
           "locations": [
            "AUT",
            "BEL",
            "CZE",
            "DEU",
            "FRA",
            "GBR",
            "HUN",
            "ITA",
            "NLD",
            "RUS",
            "SWE",
            "UKR",
            "USA",
            "Unknown"
           ],
           "name": "",
           "type": "choropleth",
           "z": [
            6.75343791859778,
            5.1647859739235145,
            5.5053315359323625,
            7.4489161025442,
            5.8998973535824915,
            6.416732282512326,
            6.089044875446846,
            6.90975328164481,
            6.2285110035911835,
            6.126869184114185,
            3.828641396489095,
            6.340359303727752,
            5.313205979041787,
            5.676753802268282
           ]
          }
         ],
         "name": "1910"
        },
        {
         "data": [
          {
           "coloraxis": "coloraxis",
           "customdata": [
            [
             5.820082930352362,
             336,
             1911
            ],
            [
             4.990432586778736,
             146,
             1911
            ],
            [
             4.867534450455582,
             129,
             1911
            ],
            [
             4.430816798843313,
             83,
             1911
            ],
            [
             7.305188215393037,
             1487,
             1911
            ],
            [
             6.444131256700441,
             628,
             1911
            ],
            [
             7.207118856207756,
             1348,
             1911
            ],
            [
             4.804021044733257,
             121,
             1911
            ],
            [
             6.2422232654551655,
             513,
             1911
            ],
            [
             5.638354669333745,
             280,
             1911
            ],
            [
             6.035481432524756,
             417,
             1911
            ],
            [
             4.02535169073515,
             55,
             1911
            ],
            [
             5.488937726156687,
             241,
             1911
            ],
            [
             1.0986122886681098,
             2,
             1911
            ]
           ],
           "geo": "geo",
           "hovertemplate": "<b>%{hovertext}</b><br><br>animation_frame_with_events=1911<br>e.country_3=%{location}<br>num_exhibitions=%{customdata[1]}<br>e.startdate=%{customdata[2]}<extra></extra>",
           "hovertext": [
            "AUT",
            "BEL",
            "CHE",
            "CZE",
            "DEU",
            "FRA",
            "GBR",
            "HUN",
            "NLD",
            "RUS",
            "SWE",
            "UKR",
            "USA",
            "Unknown"
           ],
           "locations": [
            "AUT",
            "BEL",
            "CHE",
            "CZE",
            "DEU",
            "FRA",
            "GBR",
            "HUN",
            "NLD",
            "RUS",
            "SWE",
            "UKR",
            "USA",
            "Unknown"
           ],
           "name": "",
           "type": "choropleth",
           "z": [
            5.820082930352362,
            4.990432586778736,
            4.867534450455582,
            4.430816798843313,
            7.305188215393037,
            6.444131256700441,
            7.207118856207756,
            4.804021044733257,
            6.2422232654551655,
            5.638354669333745,
            6.035481432524756,
            4.02535169073515,
            5.488937726156687,
            1.0986122886681098
           ]
          }
         ],
         "name": "1911"
        },
        {
         "data": [
          {
           "coloraxis": "coloraxis",
           "customdata": [
            [
             5.968707559985366,
             390,
             1912
            ],
            [
             4.990432586778736,
             146,
             1912
            ],
            [
             3.8066624897703196,
             44,
             1912
            ],
            [
             6.248042874508429,
             516,
             1912
            ],
            [
             7.669961995473577,
             2142,
             1912
            ],
            [
             2.1972245773362196,
             8,
             1912
            ],
            [
             7.109062135687172,
             1222,
             1912
            ],
            [
             6.07073772800249,
             432,
             1912
            ],
            [
             4.882801922586371,
             131,
             1912
            ],
            [
             6.703188113240863,
             814,
             1912
            ],
            [
             7.044905117129371,
             1146,
             1912
            ],
            [
             0.6931471805599453,
             1,
             1912
            ],
            [
             5.918893854273146,
             371,
             1912
            ],
            [
             5.921578419643816,
             372,
             1912
            ],
            [
             1.791759469228055,
             5,
             1912
            ]
           ],
           "geo": "geo",
           "hovertemplate": "<b>%{hovertext}</b><br><br>animation_frame_with_events=1912<br>e.country_3=%{location}<br>num_exhibitions=%{customdata[1]}<br>e.startdate=%{customdata[2]}<extra></extra>",
           "hovertext": [
            "AUT",
            "BEL",
            "CHE",
            "CZE",
            "DEU",
            "ESP",
            "FRA",
            "GBR",
            "HUN",
            "ITA",
            "NLD",
            "POL",
            "RUS",
            "USA",
            "Unknown"
           ],
           "locations": [
            "AUT",
            "BEL",
            "CHE",
            "CZE",
            "DEU",
            "ESP",
            "FRA",
            "GBR",
            "HUN",
            "ITA",
            "NLD",
            "POL",
            "RUS",
            "USA",
            "Unknown"
           ],
           "name": "",
           "type": "choropleth",
           "z": [
            5.968707559985366,
            4.990432586778736,
            3.8066624897703196,
            6.248042874508429,
            7.669961995473577,
            2.1972245773362196,
            7.109062135687172,
            6.07073772800249,
            4.882801922586371,
            6.703188113240863,
            7.044905117129371,
            0.6931471805599453,
            5.918893854273146,
            5.921578419643816,
            1.791759469228055
           ]
          }
         ],
         "name": "1912"
        },
        {
         "data": [
          {
           "coloraxis": "coloraxis",
           "customdata": [
            [
             6.161207321695077,
             473,
             1913
            ],
            [
             6.818924065275521,
             914,
             1913
            ],
            [
             2.0794415416798357,
             7,
             1913
            ],
            [
             5.955837369464831,
             385,
             1913
            ],
            [
             7.865955413933502,
             2606,
             1913
            ],
            [
             5.204006687076795,
             181,
             1913
            ],
            [
             6.74993119378857,
             853,
             1913
            ],
            [
             6.07073772800249,
             432,
             1913
            ],
            [
             5.365976015021851,
             213,
             1913
            ],
            [
             4.605170185988092,
             99,
             1913
            ],
            [
             6.12029741895095,
             454,
             1913
            ],
            [
             1.0986122886681098,
             2,
             1913
            ],
            [
             3.58351893845611,
             35,
             1913
            ],
            [
             7.105786129481271,
             1218,
             1913
            ],
            [
             0.6931471805599453,
             1,
             1913
            ]
           ],
           "geo": "geo",
           "hovertemplate": "<b>%{hovertext}</b><br><br>animation_frame_with_events=1913<br>e.country_3=%{location}<br>num_exhibitions=%{customdata[1]}<br>e.startdate=%{customdata[2]}<extra></extra>",
           "hovertext": [
            "AUT",
            "BEL",
            "CHE",
            "CZE",
            "DEU",
            "FRA",
            "GBR",
            "HUN",
            "ITA",
            "NLD",
            "RUS",
            "SWE",
            "UKR",
            "USA",
            "Unknown"
           ],
           "locations": [
            "AUT",
            "BEL",
            "CHE",
            "CZE",
            "DEU",
            "FRA",
            "GBR",
            "HUN",
            "ITA",
            "NLD",
            "RUS",
            "SWE",
            "UKR",
            "USA",
            "Unknown"
           ],
           "name": "",
           "type": "choropleth",
           "z": [
            6.161207321695077,
            6.818924065275521,
            2.0794415416798357,
            5.955837369464831,
            7.865955413933502,
            5.204006687076795,
            6.74993119378857,
            6.07073772800249,
            5.365976015021851,
            4.605170185988092,
            6.12029741895095,
            1.0986122886681098,
            3.58351893845611,
            7.105786129481271,
            0.6931471805599453
           ]
          }
         ],
         "name": "1913"
        },
        {
         "data": [
          {
           "coloraxis": "coloraxis",
           "customdata": [
            [
             5.75890177387728,
             316,
             1914
            ],
            [
             6.92461239604856,
             1016,
             1914
            ],
            [
             5.517452896464707,
             248,
             1914
            ],
            [
             7.208600337960199,
             1350,
             1914
            ],
            [
             5.19295685089021,
             179,
             1914
            ],
            [
             6.672032945461067,
             789,
             1914
            ],
            [
             4.477336814478207,
             87,
             1914
            ],
            [
             7.098375638590786,
             1209,
             1914
            ],
            [
             3.295836866004329,
             26,
             1914
            ],
            [
             6.848005274576363,
             941,
             1914
            ],
            [
             5.220355825078324,
             184,
             1914
            ],
            [
             5.602118820879701,
             270,
             1914
            ],
            [
             0.6931471805599453,
             1,
             1914
            ]
           ],
           "geo": "geo",
           "hovertemplate": "<b>%{hovertext}</b><br><br>animation_frame_with_events=1914<br>e.country_3=%{location}<br>num_exhibitions=%{customdata[1]}<br>e.startdate=%{customdata[2]}<extra></extra>",
           "hovertext": [
            "AUT",
            "BEL",
            "CZE",
            "DEU",
            "FRA",
            "GBR",
            "HUN",
            "ITA",
            "JPN",
            "NLD",
            "RUS",
            "USA",
            "Unknown"
           ],
           "locations": [
            "AUT",
            "BEL",
            "CZE",
            "DEU",
            "FRA",
            "GBR",
            "HUN",
            "ITA",
            "JPN",
            "NLD",
            "RUS",
            "USA",
            "Unknown"
           ],
           "name": "",
           "type": "choropleth",
           "z": [
            5.75890177387728,
            6.92461239604856,
            5.517452896464707,
            7.208600337960199,
            5.19295685089021,
            6.672032945461067,
            4.477336814478207,
            7.098375638590786,
            3.295836866004329,
            6.848005274576363,
            5.220355825078324,
            5.602118820879701,
            0.6931471805599453
           ]
          }
         ],
         "name": "1914"
        },
        {
         "data": [
          {
           "coloraxis": "coloraxis",
           "customdata": [
            [
             5.030437921392435,
             152,
             1915
            ],
            [
             6.129050210060545,
             458,
             1915
            ],
            [
             6.29156913955832,
             539,
             1915
            ],
            [
             2.3978952727983707,
             10,
             1915
            ],
            [
             5.030437921392435,
             152,
             1915
            ],
            [
             2.302585092994046,
             9,
             1915
            ],
            [
             4.6443908991413725,
             103,
             1915
            ],
            [
             2.8903717578961645,
             17,
             1915
            ]
           ],
           "geo": "geo",
           "hovertemplate": "<b>%{hovertext}</b><br><br>animation_frame_with_events=1915<br>e.country_3=%{location}<br>num_exhibitions=%{customdata[1]}<br>e.startdate=%{customdata[2]}<extra></extra>",
           "hovertext": [
            "AUT",
            "DEU",
            "GBR",
            "HUN",
            "ITA",
            "NLD",
            "RUS",
            "USA"
           ],
           "locations": [
            "AUT",
            "DEU",
            "GBR",
            "HUN",
            "ITA",
            "NLD",
            "RUS",
            "USA"
           ],
           "name": "",
           "type": "choropleth",
           "z": [
            5.030437921392435,
            6.129050210060545,
            6.29156913955832,
            2.3978952727983707,
            5.030437921392435,
            2.302585092994046,
            4.6443908991413725,
            2.8903717578961645
           ]
          }
         ],
         "name": "1915"
        },
        {
         "data": [
          {
           "coloraxis": "coloraxis",
           "customdata": [
            [
             1.3862943611198906,
             3,
             1902
            ]
           ],
           "geo": "geo",
           "hovertemplate": "<b>%{hovertext}</b><br><br>animation_frame_with_events=1902<br>e.country_3=%{location}<br>num_exhibitions=%{customdata[1]}<br>e.startdate=%{customdata[2]}<extra></extra>",
           "hovertext": [
            "DEU"
           ],
           "locations": [
            "DEU"
           ],
           "name": "",
           "type": "choropleth",
           "z": [
            1.3862943611198906
           ]
          }
         ],
         "name": "1902"
        },
        {
         "data": [
          {
           "coloraxis": "coloraxis",
           "customdata": [
            [
             1.6094379124341003,
             4,
             1903
            ]
           ],
           "geo": "geo",
           "hovertemplate": "<b>%{hovertext}</b><br><br>animation_frame_with_events=1903<br>e.country_3=%{location}<br>num_exhibitions=%{customdata[1]}<br>e.startdate=%{customdata[2]}<extra></extra>",
           "hovertext": [
            "DEU"
           ],
           "locations": [
            "DEU"
           ],
           "name": "",
           "type": "choropleth",
           "z": [
            1.6094379124341003
           ]
          }
         ],
         "name": "1903"
        },
        {
         "data": [
          {
           "coloraxis": "coloraxis",
           "customdata": [
            [
             2.70805020110221,
             14,
             1916
            ]
           ],
           "geo": "geo",
           "hovertemplate": "<b>%{hovertext}</b><br><br>animation_frame_with_events=1916<br>e.country_3=%{location}<br>num_exhibitions=%{customdata[1]}<br>e.startdate=%{customdata[2]}<extra></extra>",
           "hovertext": [
            "RUS"
           ],
           "locations": [
            "RUS"
           ],
           "name": "",
           "type": "choropleth",
           "z": [
            2.70805020110221
           ]
          }
         ],
         "name": "1916"
        }
       ],
       "layout": {
        "annotations": [
         {
          "align": "center",
          "font": {
           "color": "black",
           "size": 12
          },
          "showarrow": false,
          "text": "1912: Titanic Sinks",
          "x": 0.6,
          "xref": "paper",
          "y": -0.35,
          "yref": "paper"
         },
         {
          "align": "center",
          "font": {
           "color": "black",
           "size": 12
          },
          "showarrow": false,
          "text": "1914: Start of WWI",
          "x": 0.78,
          "xref": "paper",
          "y": -0.35,
          "yref": "paper"
         }
        ],
        "coloraxis": {
         "cmax": 8.339023005744759,
         "cmin": 0.6931471805599453,
         "colorbar": {
          "title": {
           "text": "log_num_exhibitions"
          }
         },
         "colorscale": [
          [
           0,
           "#0d0887"
          ],
          [
           0.1111111111111111,
           "#46039f"
          ],
          [
           0.2222222222222222,
           "#7201a8"
          ],
          [
           0.3333333333333333,
           "#9c179e"
          ],
          [
           0.4444444444444444,
           "#bd3786"
          ],
          [
           0.5555555555555556,
           "#d8576b"
          ],
          [
           0.6666666666666666,
           "#ed7953"
          ],
          [
           0.7777777777777778,
           "#fb9f3a"
          ],
          [
           0.8888888888888888,
           "#fdca26"
          ],
          [
           1,
           "#f0f921"
          ]
         ]
        },
        "geo": {
         "center": {},
         "coastlinecolor": "Black",
         "domain": {
          "x": [
           0,
           1
          ],
          "y": [
           0,
           1
          ]
         },
         "landcolor": "lightgray",
         "projection": {
          "type": "natural earth"
         },
         "showcoastlines": true,
         "showland": true
        },
        "legend": {
         "tracegroupgap": 0
        },
        "sliders": [
         {
          "active": 0,
          "currentvalue": {
           "prefix": "Year: "
          },
          "len": 0.9,
          "pad": {
           "b": 10,
           "t": 50
          },
          "steps": [
           {
            "args": [
             [
              "1904"
             ],
             {}
            ],
            "label": "1904",
            "method": "animate"
           },
           {
            "args": [
             [
              "1905"
             ],
             {}
            ],
            "label": "1905",
            "method": "animate"
           },
           {
            "args": [
             [
              "1906"
             ],
             {}
            ],
            "label": "1906",
            "method": "animate"
           },
           {
            "args": [
             [
              "1907"
             ],
             {}
            ],
            "label": "1907",
            "method": "animate"
           },
           {
            "args": [
             [
              "1908"
             ],
             {}
            ],
            "label": "1908",
            "method": "animate"
           },
           {
            "args": [
             [
              "1909"
             ],
             {}
            ],
            "label": "1909",
            "method": "animate"
           },
           {
            "args": [
             [
              "1910"
             ],
             {}
            ],
            "label": "1910",
            "method": "animate"
           },
           {
            "args": [
             [
              "1911"
             ],
             {}
            ],
            "label": "1911",
            "method": "animate"
           },
           {
            "args": [
             [
              "1912"
             ],
             {}
            ],
            "label": "1912",
            "method": "animate"
           },
           {
            "args": [
             [
              "1913"
             ],
             {}
            ],
            "label": "1913",
            "method": "animate"
           },
           {
            "args": [
             [
              "1914"
             ],
             {}
            ],
            "label": "1914",
            "method": "animate"
           },
           {
            "args": [
             [
              "1915"
             ],
             {}
            ],
            "label": "1915",
            "method": "animate"
           },
           {
            "args": [
             [
              "1902"
             ],
             {}
            ],
            "label": "1902",
            "method": "animate"
           },
           {
            "args": [
             [
              "1903"
             ],
             {}
            ],
            "label": "1903",
            "method": "animate"
           },
           {
            "args": [
             [
              "1916"
             ],
             {}
            ],
            "label": "1916",
            "method": "animate"
           }
          ],
          "x": 0.1,
          "xanchor": "left",
          "y": 0,
          "yanchor": "top"
         }
        ],
        "template": {
         "data": {
          "bar": [
           {
            "error_x": {
             "color": "#2a3f5f"
            },
            "error_y": {
             "color": "#2a3f5f"
            },
            "marker": {
             "line": {
              "color": "#E5ECF6",
              "width": 0.5
             },
             "pattern": {
              "fillmode": "overlay",
              "size": 10,
              "solidity": 0.2
             }
            },
            "type": "bar"
           }
          ],
          "barpolar": [
           {
            "marker": {
             "line": {
              "color": "#E5ECF6",
              "width": 0.5
             },
             "pattern": {
              "fillmode": "overlay",
              "size": 10,
              "solidity": 0.2
             }
            },
            "type": "barpolar"
           }
          ],
          "carpet": [
           {
            "aaxis": {
             "endlinecolor": "#2a3f5f",
             "gridcolor": "white",
             "linecolor": "white",
             "minorgridcolor": "white",
             "startlinecolor": "#2a3f5f"
            },
            "baxis": {
             "endlinecolor": "#2a3f5f",
             "gridcolor": "white",
             "linecolor": "white",
             "minorgridcolor": "white",
             "startlinecolor": "#2a3f5f"
            },
            "type": "carpet"
           }
          ],
          "choropleth": [
           {
            "colorbar": {
             "outlinewidth": 0,
             "ticks": ""
            },
            "type": "choropleth"
           }
          ],
          "contour": [
           {
            "colorbar": {
             "outlinewidth": 0,
             "ticks": ""
            },
            "colorscale": [
             [
              0,
              "#0d0887"
             ],
             [
              0.1111111111111111,
              "#46039f"
             ],
             [
              0.2222222222222222,
              "#7201a8"
             ],
             [
              0.3333333333333333,
              "#9c179e"
             ],
             [
              0.4444444444444444,
              "#bd3786"
             ],
             [
              0.5555555555555556,
              "#d8576b"
             ],
             [
              0.6666666666666666,
              "#ed7953"
             ],
             [
              0.7777777777777778,
              "#fb9f3a"
             ],
             [
              0.8888888888888888,
              "#fdca26"
             ],
             [
              1,
              "#f0f921"
             ]
            ],
            "type": "contour"
           }
          ],
          "contourcarpet": [
           {
            "colorbar": {
             "outlinewidth": 0,
             "ticks": ""
            },
            "type": "contourcarpet"
           }
          ],
          "heatmap": [
           {
            "colorbar": {
             "outlinewidth": 0,
             "ticks": ""
            },
            "colorscale": [
             [
              0,
              "#0d0887"
             ],
             [
              0.1111111111111111,
              "#46039f"
             ],
             [
              0.2222222222222222,
              "#7201a8"
             ],
             [
              0.3333333333333333,
              "#9c179e"
             ],
             [
              0.4444444444444444,
              "#bd3786"
             ],
             [
              0.5555555555555556,
              "#d8576b"
             ],
             [
              0.6666666666666666,
              "#ed7953"
             ],
             [
              0.7777777777777778,
              "#fb9f3a"
             ],
             [
              0.8888888888888888,
              "#fdca26"
             ],
             [
              1,
              "#f0f921"
             ]
            ],
            "type": "heatmap"
           }
          ],
          "heatmapgl": [
           {
            "colorbar": {
             "outlinewidth": 0,
             "ticks": ""
            },
            "colorscale": [
             [
              0,
              "#0d0887"
             ],
             [
              0.1111111111111111,
              "#46039f"
             ],
             [
              0.2222222222222222,
              "#7201a8"
             ],
             [
              0.3333333333333333,
              "#9c179e"
             ],
             [
              0.4444444444444444,
              "#bd3786"
             ],
             [
              0.5555555555555556,
              "#d8576b"
             ],
             [
              0.6666666666666666,
              "#ed7953"
             ],
             [
              0.7777777777777778,
              "#fb9f3a"
             ],
             [
              0.8888888888888888,
              "#fdca26"
             ],
             [
              1,
              "#f0f921"
             ]
            ],
            "type": "heatmapgl"
           }
          ],
          "histogram": [
           {
            "marker": {
             "pattern": {
              "fillmode": "overlay",
              "size": 10,
              "solidity": 0.2
             }
            },
            "type": "histogram"
           }
          ],
          "histogram2d": [
           {
            "colorbar": {
             "outlinewidth": 0,
             "ticks": ""
            },
            "colorscale": [
             [
              0,
              "#0d0887"
             ],
             [
              0.1111111111111111,
              "#46039f"
             ],
             [
              0.2222222222222222,
              "#7201a8"
             ],
             [
              0.3333333333333333,
              "#9c179e"
             ],
             [
              0.4444444444444444,
              "#bd3786"
             ],
             [
              0.5555555555555556,
              "#d8576b"
             ],
             [
              0.6666666666666666,
              "#ed7953"
             ],
             [
              0.7777777777777778,
              "#fb9f3a"
             ],
             [
              0.8888888888888888,
              "#fdca26"
             ],
             [
              1,
              "#f0f921"
             ]
            ],
            "type": "histogram2d"
           }
          ],
          "histogram2dcontour": [
           {
            "colorbar": {
             "outlinewidth": 0,
             "ticks": ""
            },
            "colorscale": [
             [
              0,
              "#0d0887"
             ],
             [
              0.1111111111111111,
              "#46039f"
             ],
             [
              0.2222222222222222,
              "#7201a8"
             ],
             [
              0.3333333333333333,
              "#9c179e"
             ],
             [
              0.4444444444444444,
              "#bd3786"
             ],
             [
              0.5555555555555556,
              "#d8576b"
             ],
             [
              0.6666666666666666,
              "#ed7953"
             ],
             [
              0.7777777777777778,
              "#fb9f3a"
             ],
             [
              0.8888888888888888,
              "#fdca26"
             ],
             [
              1,
              "#f0f921"
             ]
            ],
            "type": "histogram2dcontour"
           }
          ],
          "mesh3d": [
           {
            "colorbar": {
             "outlinewidth": 0,
             "ticks": ""
            },
            "type": "mesh3d"
           }
          ],
          "parcoords": [
           {
            "line": {
             "colorbar": {
              "outlinewidth": 0,
              "ticks": ""
             }
            },
            "type": "parcoords"
           }
          ],
          "pie": [
           {
            "automargin": true,
            "type": "pie"
           }
          ],
          "scatter": [
           {
            "fillpattern": {
             "fillmode": "overlay",
             "size": 10,
             "solidity": 0.2
            },
            "type": "scatter"
           }
          ],
          "scatter3d": [
           {
            "line": {
             "colorbar": {
              "outlinewidth": 0,
              "ticks": ""
             }
            },
            "marker": {
             "colorbar": {
              "outlinewidth": 0,
              "ticks": ""
             }
            },
            "type": "scatter3d"
           }
          ],
          "scattercarpet": [
           {
            "marker": {
             "colorbar": {
              "outlinewidth": 0,
              "ticks": ""
             }
            },
            "type": "scattercarpet"
           }
          ],
          "scattergeo": [
           {
            "marker": {
             "colorbar": {
              "outlinewidth": 0,
              "ticks": ""
             }
            },
            "type": "scattergeo"
           }
          ],
          "scattergl": [
           {
            "marker": {
             "colorbar": {
              "outlinewidth": 0,
              "ticks": ""
             }
            },
            "type": "scattergl"
           }
          ],
          "scattermapbox": [
           {
            "marker": {
             "colorbar": {
              "outlinewidth": 0,
              "ticks": ""
             }
            },
            "type": "scattermapbox"
           }
          ],
          "scatterpolar": [
           {
            "marker": {
             "colorbar": {
              "outlinewidth": 0,
              "ticks": ""
             }
            },
            "type": "scatterpolar"
           }
          ],
          "scatterpolargl": [
           {
            "marker": {
             "colorbar": {
              "outlinewidth": 0,
              "ticks": ""
             }
            },
            "type": "scatterpolargl"
           }
          ],
          "scatterternary": [
           {
            "marker": {
             "colorbar": {
              "outlinewidth": 0,
              "ticks": ""
             }
            },
            "type": "scatterternary"
           }
          ],
          "surface": [
           {
            "colorbar": {
             "outlinewidth": 0,
             "ticks": ""
            },
            "colorscale": [
             [
              0,
              "#0d0887"
             ],
             [
              0.1111111111111111,
              "#46039f"
             ],
             [
              0.2222222222222222,
              "#7201a8"
             ],
             [
              0.3333333333333333,
              "#9c179e"
             ],
             [
              0.4444444444444444,
              "#bd3786"
             ],
             [
              0.5555555555555556,
              "#d8576b"
             ],
             [
              0.6666666666666666,
              "#ed7953"
             ],
             [
              0.7777777777777778,
              "#fb9f3a"
             ],
             [
              0.8888888888888888,
              "#fdca26"
             ],
             [
              1,
              "#f0f921"
             ]
            ],
            "type": "surface"
           }
          ],
          "table": [
           {
            "cells": {
             "fill": {
              "color": "#EBF0F8"
             },
             "line": {
              "color": "white"
             }
            },
            "header": {
             "fill": {
              "color": "#C8D4E3"
             },
             "line": {
              "color": "white"
             }
            },
            "type": "table"
           }
          ]
         },
         "layout": {
          "annotationdefaults": {
           "arrowcolor": "#2a3f5f",
           "arrowhead": 0,
           "arrowwidth": 1
          },
          "autotypenumbers": "strict",
          "coloraxis": {
           "colorbar": {
            "outlinewidth": 0,
            "ticks": ""
           }
          },
          "colorscale": {
           "diverging": [
            [
             0,
             "#8e0152"
            ],
            [
             0.1,
             "#c51b7d"
            ],
            [
             0.2,
             "#de77ae"
            ],
            [
             0.3,
             "#f1b6da"
            ],
            [
             0.4,
             "#fde0ef"
            ],
            [
             0.5,
             "#f7f7f7"
            ],
            [
             0.6,
             "#e6f5d0"
            ],
            [
             0.7,
             "#b8e186"
            ],
            [
             0.8,
             "#7fbc41"
            ],
            [
             0.9,
             "#4d9221"
            ],
            [
             1,
             "#276419"
            ]
           ],
           "sequential": [
            [
             0,
             "#0d0887"
            ],
            [
             0.1111111111111111,
             "#46039f"
            ],
            [
             0.2222222222222222,
             "#7201a8"
            ],
            [
             0.3333333333333333,
             "#9c179e"
            ],
            [
             0.4444444444444444,
             "#bd3786"
            ],
            [
             0.5555555555555556,
             "#d8576b"
            ],
            [
             0.6666666666666666,
             "#ed7953"
            ],
            [
             0.7777777777777778,
             "#fb9f3a"
            ],
            [
             0.8888888888888888,
             "#fdca26"
            ],
            [
             1,
             "#f0f921"
            ]
           ],
           "sequentialminus": [
            [
             0,
             "#0d0887"
            ],
            [
             0.1111111111111111,
             "#46039f"
            ],
            [
             0.2222222222222222,
             "#7201a8"
            ],
            [
             0.3333333333333333,
             "#9c179e"
            ],
            [
             0.4444444444444444,
             "#bd3786"
            ],
            [
             0.5555555555555556,
             "#d8576b"
            ],
            [
             0.6666666666666666,
             "#ed7953"
            ],
            [
             0.7777777777777778,
             "#fb9f3a"
            ],
            [
             0.8888888888888888,
             "#fdca26"
            ],
            [
             1,
             "#f0f921"
            ]
           ]
          },
          "colorway": [
           "#636efa",
           "#EF553B",
           "#00cc96",
           "#ab63fa",
           "#FFA15A",
           "#19d3f3",
           "#FF6692",
           "#B6E880",
           "#FF97FF",
           "#FECB52"
          ],
          "font": {
           "color": "#2a3f5f"
          },
          "geo": {
           "bgcolor": "white",
           "lakecolor": "white",
           "landcolor": "#E5ECF6",
           "showlakes": true,
           "showland": true,
           "subunitcolor": "white"
          },
          "hoverlabel": {
           "align": "left"
          },
          "hovermode": "closest",
          "mapbox": {
           "style": "light"
          },
          "paper_bgcolor": "white",
          "plot_bgcolor": "#E5ECF6",
          "polar": {
           "angularaxis": {
            "gridcolor": "white",
            "linecolor": "white",
            "ticks": ""
           },
           "bgcolor": "#E5ECF6",
           "radialaxis": {
            "gridcolor": "white",
            "linecolor": "white",
            "ticks": ""
           }
          },
          "scene": {
           "xaxis": {
            "backgroundcolor": "#E5ECF6",
            "gridcolor": "white",
            "gridwidth": 2,
            "linecolor": "white",
            "showbackground": true,
            "ticks": "",
            "zerolinecolor": "white"
           },
           "yaxis": {
            "backgroundcolor": "#E5ECF6",
            "gridcolor": "white",
            "gridwidth": 2,
            "linecolor": "white",
            "showbackground": true,
            "ticks": "",
            "zerolinecolor": "white"
           },
           "zaxis": {
            "backgroundcolor": "#E5ECF6",
            "gridcolor": "white",
            "gridwidth": 2,
            "linecolor": "white",
            "showbackground": true,
            "ticks": "",
            "zerolinecolor": "white"
           }
          },
          "shapedefaults": {
           "line": {
            "color": "#2a3f5f"
           }
          },
          "ternary": {
           "aaxis": {
            "gridcolor": "white",
            "linecolor": "white",
            "ticks": ""
           },
           "baxis": {
            "gridcolor": "white",
            "linecolor": "white",
            "ticks": ""
           },
           "bgcolor": "#E5ECF6",
           "caxis": {
            "gridcolor": "white",
            "linecolor": "white",
            "ticks": ""
           }
          },
          "title": {
           "x": 0.05
          },
          "xaxis": {
           "automargin": true,
           "gridcolor": "white",
           "linecolor": "white",
           "ticks": "",
           "title": {
            "standoff": 15
           },
           "zerolinecolor": "white",
           "zerolinewidth": 2
          },
          "yaxis": {
           "automargin": true,
           "gridcolor": "white",
           "linecolor": "white",
           "ticks": "",
           "title": {
            "standoff": 15
           },
           "zerolinecolor": "white",
           "zerolinewidth": 2
          }
         }
        },
        "title": {
         "text": "Exhibition Distribution by Country and Year (Log Scale)",
         "x": 0.5
        },
        "updatemenus": [
         {
          "buttons": [
           {
            "args": [
             null,
             {
              "frame": {
               "duration": 500,
               "redraw": true
              },
              "fromcurrent": true,
              "mode": "immediate",
              "transition": {
               "duration": 500,
               "easing": "linear"
              }
             }
            ],
            "label": "&#9654;",
            "method": "animate"
           },
           {
            "args": [
             [
              null
             ],
             {
              "frame": {
               "duration": 0,
               "redraw": true
              },
              "fromcurrent": true,
              "mode": "immediate",
              "transition": {
               "duration": 0,
               "easing": "linear"
              }
             }
            ],
            "label": "&#9724;",
            "method": "animate"
           }
          ],
          "direction": "left",
          "pad": {
           "r": 10,
           "t": 70
          },
          "showactive": false,
          "type": "buttons",
          "x": 0.1,
          "xanchor": "right",
          "y": 0,
          "yanchor": "top"
         }
        ]
       }
      }
     },
     "metadata": {},
     "output_type": "display_data"
    }
   ],
   "source": [
    "import numpy as np\n",
    "import plotly.express as px\n",
    "\n",
    "# Add a logarithmic transformed column\n",
    "result_df_unique_reset_year['log_num_exhibitions'] = np.log1p(result_df_unique_reset_year['num_exhibitions'])\n",
    "\n",
    "# Calculate the range for the logarithmic scale\n",
    "log_color_min = result_df_unique_reset_year['log_num_exhibitions'].min()\n",
    "log_color_max = result_df_unique_reset_year['log_num_exhibitions'].max()\n",
    "\n",
    "# Add historical events for animation frames\n",
    "event_dict = {\n",
    "    \"1912-04\": \"Titanic Sinking\",\n",
    "    \"1914-07\": \"Start of WWI\",\n",
    "    \"1918-11\": \"End of WWI\"\n",
    "}\n",
    "\n",
    "# Create a new column to display events alongside dates in the animation frame\n",
    "result_df_unique_reset_year['animation_frame_with_events'] = result_df_unique_reset_year['e.startdate'].apply(\n",
    "    lambda x: f\"{x} ({event_dict[x]})\" if x in event_dict else x\n",
    ")\n",
    "\n",
    "# Create the choropleth map using the transformed column\n",
    "fig = px.choropleth(\n",
    "    result_df_unique_reset_year, \n",
    "    locations=\"e.country_3\",\n",
    "    color=\"log_num_exhibitions\",  # Use the logarithmic column\n",
    "    hover_name=\"e.country_3\",\n",
    "    hover_data={\"log_num_exhibitions\": False,  # Hide logarithmic values in hover\n",
    "                \"num_exhibitions\": True,  # Show original values\n",
    "                \"e.startdate\": True},\n",
    "    animation_frame=\"animation_frame_with_events\",  # Use the new column with events\n",
    "    color_continuous_scale=px.colors.sequential.Plasma,\n",
    "    range_color=[log_color_min, log_color_max],  # Fix the range for the logarithmic scale\n",
    "    projection=\"natural earth\",\n",
    "    title=\"Exhibition Distribution by Country and Year (Log Scale)\"\n",
    ")\n",
    "\n",
    "# Customize the map\n",
    "fig.update_geos(showcoastlines=True, coastlinecolor=\"Black\", showland=True, landcolor=\"lightgray\")\n",
    "fig.update_layout(\n",
    "    title_text=\"Exhibition Distribution by Country and Year (Log Scale)\", \n",
    "    title_x=0.5,\n",
    "    sliders=[{\n",
    "        \"steps\": [\n",
    "            {\"label\": f\"{frame.name}\", \"method\": \"animate\", \"args\": [[frame.name], {}]}\n",
    "            for frame in fig.frames\n",
    "        ],\n",
    "        \"currentvalue\": {\"prefix\": \"Year: \"},\n",
    "        \"pad\": {\"t\": 50},\n",
    "        \"x\": 0.1, \"len\": 0.9,  # Position slider\n",
    "        \"active\": 0\n",
    "    }]\n",
    ")\n",
    "\n",
    "# Add titles above the slider\n",
    "fig.add_annotation(\n",
    "    x=0.6, y=-0.35,  # Adjust position\n",
    "    xref=\"paper\", yref=\"paper\",\n",
    "    text=\"1912: Titanic Sinks\",\n",
    "    showarrow=False,\n",
    "    font=dict(size=12, color=\"black\"),\n",
    "    align=\"center\"\n",
    ")\n",
    "fig.add_annotation(\n",
    "    x=0.78, y=-0.35,  # Adjust position\n",
    "    xref=\"paper\", yref=\"paper\",\n",
    "    text=\"1914: Start of WWI\",\n",
    "    showarrow=False,\n",
    "    font=dict(size=12, color=\"black\"),\n",
    "    align=\"center\"\n",
    ")\n",
    "\n",
    "# Save and display the chart\n",
    "fig.write_html(\"interactive_map_log_scale_with_events.html\")\n",
    "fig.show()\n",
    "\n"
   ]
  }
 ],
 "metadata": {
  "kernelspec": {
   "display_name": "Python 3",
   "language": "python",
   "name": "python3"
  },
  "language_info": {
   "codemirror_mode": {
    "name": "ipython",
    "version": 3
   },
   "file_extension": ".py",
   "mimetype": "text/x-python",
   "name": "python",
   "nbconvert_exporter": "python",
   "pygments_lexer": "ipython3",
   "version": "3.11.9"
  }
 },
 "nbformat": 4,
 "nbformat_minor": 2
}
